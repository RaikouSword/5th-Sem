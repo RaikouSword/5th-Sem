{
 "cells": [
  {
   "cell_type": "code",
   "execution_count": 1,
   "id": "4585dcdb",
   "metadata": {},
   "outputs": [
    {
     "name": "stdout",
     "output_type": "stream",
     "text": [
      "Hello from C021\n"
     ]
    }
   ],
   "source": [
    "print(\"Hello from C021\")"
   ]
  },
  {
   "cell_type": "code",
   "execution_count": 2,
   "id": "b1c9a9f2",
   "metadata": {},
   "outputs": [
    {
     "name": "stdout",
     "output_type": "stream",
     "text": [
      "Integer:  25 <class 'int'>\n"
     ]
    }
   ],
   "source": [
    "age  = 25\n",
    "print(\"Integer: \", age, type(age))"
   ]
  },
  {
   "cell_type": "code",
   "execution_count": 3,
   "id": "abe75c94",
   "metadata": {},
   "outputs": [
    {
     "name": "stdout",
     "output_type": "stream",
     "text": [
      "Float 5.9 <class 'float'>\n"
     ]
    }
   ],
   "source": [
    "height  = 5.9\n",
    "print(\"Float\", height, type(height))"
   ]
  },
  {
   "cell_type": "code",
   "execution_count": 5,
   "id": "4d8753cd",
   "metadata": {},
   "outputs": [
    {
     "name": "stdout",
     "output_type": "stream",
     "text": [
      "Addition:  13\n",
      "Subtraction:  7\n",
      "Multiplication:  30\n",
      "Divison:  3.3333333333333335\n",
      "Floor Division:  3\n",
      "Modulus:  1\n",
      "Exponentiation:  1000\n"
     ]
    }
   ],
   "source": [
    "#Arithmatic Operations\n",
    "a= 10\n",
    "b =3\n",
    "print(\"Addition: \", a+b)\n",
    "print(\"Subtraction: \", a-b)\n",
    "print(\"Multiplication: \", a*b)\n",
    "print(\"Divison: \", a/b)\n",
    "print(\"Floor Division: \", a//b)\n",
    "print(\"Modulus: \", a%b)\n",
    "print(\"Exponentiation: \", a**b)"
   ]
  },
  {
   "cell_type": "code",
   "execution_count": 8,
   "id": "2162e3c6",
   "metadata": {},
   "outputs": [
    {
     "name": "stdout",
     "output_type": "stream",
     "text": [
      "Equal:  False\n",
      "Not Equal:  True\n",
      "Greater than:  False\n",
      "Lesser than:  True\n"
     ]
    }
   ],
   "source": [
    "#Comparison Operations\n",
    "x= 5\n",
    "y = 8\n",
    "print(\"Equal: \", x==y)\n",
    "print(\"Not Equal: \", x!=y)\n",
    "print(\"Greater than: \", x>y)\n",
    "print(\"Lesser than: \", x<y)\n",
    "# Same with \">=\" for \"greater than equals to\" and \"<=\" for \"less than equals to\""
   ]
  },
  {
   "cell_type": "code",
   "execution_count": 9,
   "id": "c586c95d",
   "metadata": {},
   "outputs": [
    {
     "name": "stdout",
     "output_type": "stream",
     "text": [
      "AND: False\n",
      "OR: True\n",
      "NOT P: False\n",
      "NOT Q: True\n"
     ]
    }
   ],
   "source": [
    "#Logical Operators\n",
    "p =True\n",
    "q = False\n",
    "print(\"AND:\", p and q)\n",
    "print(\"OR:\", p or q)\n",
    "print(\"NOT P:\", not p)\n",
    "print(\"NOT Q:\", not q)"
   ]
  },
  {
   "cell_type": "code",
   "execution_count": 11,
   "id": "4a2279db",
   "metadata": {},
   "outputs": [
    {
     "name": "stdout",
     "output_type": "stream",
     "text": [
      "Concatenation:  Hello World\n",
      "Repetition:  HelloHelloHello\n",
      "Length:  5 5\n",
      "Uppercase:  HELLO\n",
      "Lowercase:  world\n",
      "Contains 'ell':  True False\n"
     ]
    }
   ],
   "source": [
    "#String Operations\n",
    "str1 =\"Hello\"\n",
    "str2 = \"World\"\n",
    "\n",
    "print(\"Concatenation: \", str1+ \" \" + str2)\n",
    "print(\"Repetition: \", str1*3)\n",
    "print(\"Length: \", len(str1), len(str2))\n",
    "print(\"Uppercase: \",str1.upper())\n",
    "print(\"Lowercase: \", str2.lower())\n",
    "print(\"Contains 'ell': \", 'ell' in str1, 'ell' in str2)"
   ]
  },
  {
   "cell_type": "code",
   "execution_count": 29,
   "id": "f1eba2a1",
   "metadata": {},
   "outputs": [
    {
     "name": "stdout",
     "output_type": "stream",
     "text": [
      "1 2 3 4 5 6 7 8 9 \n",
      "1 2 24 5 6 7 8 136 6 3 62346 [1] [2] [3] [4] [5] [6] [7] [8] [9] "
     ]
    }
   ],
   "source": [
    "#For Loop\n",
    "for i in range(1, 10):\n",
    "    print(i, end=\" \")\n",
    "print()\n",
    "arr = [1,2,24,5,6,7,8,136,6,3,62346,]\n",
    "for num in arr:\n",
    "    print(num, end=\" \")\n",
    "# print()\n",
    "# for num in arr:\n",
    "#     for i in range(1,10):\n",
    "#         print(i, end=\" \")\n",
    "\n",
    "\n",
    "#for i in range(x,y,z)\n",
    "# x- starting \n",
    "# y- end\n",
    "# z - increament"
   ]
  },
  {
   "cell_type": "code",
   "execution_count": 36,
   "id": "5d6c7b71",
   "metadata": {},
   "outputs": [
    {
     "name": "stdout",
     "output_type": "stream",
     "text": [
      "10 9 8 7 6 5 4 3 2 1 "
     ]
    }
   ],
   "source": [
    "#While Loop\n",
    "\n",
    "count = 10\n",
    "while count > 0:\n",
    "    print(count, end=\" \")\n",
    "    count-=1"
   ]
  },
  {
   "cell_type": "code",
   "execution_count": 6,
   "id": "e189c0bc",
   "metadata": {},
   "outputs": [
    {
     "name": "stdout",
     "output_type": "stream",
     "text": [
      "Enter a number: 5\n",
      "Greater than 0\n"
     ]
    }
   ],
   "source": [
    "#elif Statements\n",
    "num = int(input(\"Enter a number: \"))\n",
    "print(\"Greater than 0\") if num>0 else print(\"Lesser than 0\")"
   ]
  },
  {
   "cell_type": "code",
   "execution_count": null,
   "id": "89967bd4",
   "metadata": {},
   "outputs": [],
   "source": [
    "#Find sum of first 15 natural numbers\n",
    "n = 15\n",
    "sum = 0\n",
    "while n>0:\n",
    "    sum+=n\n",
    "    n-=1\n",
    "print(sum)"
   ]
  },
  {
   "cell_type": "code",
   "execution_count": 4,
   "id": "de7e127d",
   "metadata": {},
   "outputs": [
    {
     "name": "stdout",
     "output_type": "stream",
     "text": [
      "17\n",
      "355687428096000\n"
     ]
    }
   ],
   "source": [
    "#Find 15 factorial\n",
    "fact = 1\n",
    "n =int(input())\n",
    "for x in range(1,n+1):\n",
    "    fact*=x\n",
    "print(fact)"
   ]
  },
  {
   "cell_type": "code",
   "execution_count": 8,
   "id": "83bcd0a9",
   "metadata": {},
   "outputs": [
    {
     "name": "stdout",
     "output_type": "stream",
     "text": [
      "6\n",
      "6  is divisble by 3\n"
     ]
    }
   ],
   "source": [
    "#Check weather num is divisble by 3\n",
    "\n",
    "n = int(input())\n",
    "print(n,\" is divisble by 3\") if n%3==0 else print(n, \" isn't divisible by 3\")"
   ]
  },
  {
   "cell_type": "code",
   "execution_count": 11,
   "id": "f30bad65",
   "metadata": {},
   "outputs": [
    {
     "name": "stdout",
     "output_type": "stream",
     "text": [
      "* \n",
      "* * \n",
      "* * * \n",
      "* * * * \n",
      "* * * * * \n"
     ]
    }
   ],
   "source": [
    "for i in range(1,6):\n",
    "    for j in range(1,i+1):\n",
    "        print(\"*\", end=\" \")\n",
    "    print()"
   ]
  },
  {
   "cell_type": "code",
   "execution_count": 13,
   "id": "ab2a7ef5",
   "metadata": {},
   "outputs": [
    {
     "name": "stdout",
     "output_type": "stream",
     "text": [
      "[1, 80, 3, 5]\n"
     ]
    }
   ],
   "source": [
    "#List Operations\n",
    "arr =[1,3,5]\n",
    "arr.insert(1,80)\n",
    "print(arr)"
   ]
  },
  {
   "cell_type": "code",
   "execution_count": 15,
   "id": "406beafd",
   "metadata": {},
   "outputs": [
    {
     "name": "stdout",
     "output_type": "stream",
     "text": [
      "[1, 80, 3, 5, 5, 65, 5, 65]\n"
     ]
    }
   ],
   "source": [
    "arr.extend([5,65])\n",
    "print(arr)"
   ]
  },
  {
   "cell_type": "code",
   "execution_count": 19,
   "id": "069df39c",
   "metadata": {},
   "outputs": [
    {
     "name": "stdout",
     "output_type": "stream",
     "text": [
      "[1, 80, 3, 5, 65]\n"
     ]
    }
   ],
   "source": [
    "arr.remove(5)\n",
    "print(arr)"
   ]
  },
  {
   "cell_type": "code",
   "execution_count": 21,
   "id": "d718588d",
   "metadata": {},
   "outputs": [
    {
     "name": "stdout",
     "output_type": "stream",
     "text": [
      "3\n"
     ]
    }
   ],
   "source": [
    "print(arr[2])"
   ]
  },
  {
   "cell_type": "code",
   "execution_count": 22,
   "id": "1e3773d7",
   "metadata": {},
   "outputs": [
    {
     "name": "stdout",
     "output_type": "stream",
     "text": [
      "Original [1, 2, 3, 4, 5, 6, 7, 8, 9]\n",
      "Reversed [9, 8, 7, 6, 5, 4, 3, 2, 1]\n",
      "First 3 [1, 2, 3]\n",
      "Last 3 [7, 8, 9]\n",
      "Middle [4, 5, 6, 7]\n",
      "Every second [1, 3, 5, 7, 9]\n",
      "Length 9\n",
      "Sum:  45\n",
      "Max:  9\n",
      "Min:  1\n"
     ]
    }
   ],
   "source": [
    "#List Slicing and Methods\n",
    "\n",
    "nums = [1,2,3,4,5,6,7,8,9]\n",
    "\n",
    "print(\"Original\", nums)\n",
    "print(\"Reversed\", nums[::-1])\n",
    "print(\"First 3\", nums[:3])\n",
    "print(\"Last 3\", nums[-3:])\n",
    "print(\"Middle\", nums[3:7])\n",
    "print(\"Every second\", nums[::2])\n",
    "print(\"Length\", len(nums))\n",
    "print(\"Sum: \", sum(nums))\n",
    "print(\"Max: \", max(nums))\n",
    "print(\"Min: \", min(nums))"
   ]
  },
  {
   "cell_type": "code",
   "execution_count": 24,
   "id": "cc12c52b",
   "metadata": {},
   "outputs": [
    {
     "name": "stdout",
     "output_type": "stream",
     "text": [
      "[1, 4, 9, 16, 25]\n"
     ]
    }
   ],
   "source": [
    "sq = [x**2 for x in range(1,6)]\n",
    "print(sq)"
   ]
  },
  {
   "cell_type": "code",
   "execution_count": 25,
   "id": "d778af32",
   "metadata": {},
   "outputs": [
    {
     "name": "stdout",
     "output_type": "stream",
     "text": [
      "[4, 16, 36, 64, 100]\n"
     ]
    }
   ],
   "source": [
    "even_sq = [x**2 for x in range(1,11) if x%2==0]\n",
    "print(even_sq)"
   ]
  },
  {
   "cell_type": "code",
   "execution_count": 27,
   "id": "60fd3ec0",
   "metadata": {},
   "outputs": [
    {
     "name": "stdout",
     "output_type": "stream",
     "text": [
      "[[1, 2, 3], [2, 4, 6], [3, 6, 9]]\n"
     ]
    }
   ],
   "source": [
    "matrix = [[i*j for j in range(1,4)] for i in range(1,4)]\n",
    "print(matrix)"
   ]
  },
  {
   "cell_type": "code",
   "execution_count": 28,
   "id": "ba7f5b8e",
   "metadata": {},
   "outputs": [
    {
     "name": "stdout",
     "output_type": "stream",
     "text": [
      "Simple tuple:  (1, 2, 3)\n",
      "Mixed tuple:  (1, 'hi', True, 4.9)\n",
      "Single tuple:  (42,)\n",
      "Empty tuple:  ()\n"
     ]
    }
   ],
   "source": [
    "#Tuples\n",
    "\n",
    "simple_tuple = (1,2,3)\n",
    "mixed_tuple = (1,\"hi\", True, 4.9)\n",
    "single_tuple = (42,)\n",
    "empty_tuple = ()\n",
    "\n",
    "print(\"Simple tuple: \", simple_tuple)\n",
    "print(\"Mixed tuple: \", mixed_tuple)\n",
    "print(\"Single tuple: \", single_tuple)\n",
    "print(\"Empty tuple: \", empty_tuple)"
   ]
  },
  {
   "cell_type": "code",
   "execution_count": 34,
   "id": "2e6f59c8",
   "metadata": {},
   "outputs": [
    {
     "name": "stdout",
     "output_type": "stream",
     "text": [
      "Student:  {'Name': 'Rajendra', 'Age': 21, 'Subjects': ['PFCD', 'PPWC', 'MLC', 'ITC', 'DPOS', 'CNC'], 'CGPA': 8.9, 'Semester': '5th', 'Section': '23412G3', 'RegdNo': 2341019202}\n",
      "Empty:  {}\n",
      "Another :  {'name': 'Aryan', 'age': 22}\n",
      "Age:  21\n",
      "Name:  Rajendra\n",
      "{'Name': 'Rajendra Aryan Sahu', 'Age': 21, 'Subjects': ['PFCD', 'PPWC', 'MLC', 'ITC', 'DPOS', 'CNC'], 'CGPA': 8.9, 'Semester': '5th', 'Section': '23412G3', 'RegdNo': 2341019202, 'Email': 'rajendra@gmail.com'}\n",
      "rajendra@gmail.com\n",
      "{'Name': 'Rajendra Aryan Sahu', 'Age': 21, 'Subjects': ['PFCD', 'PPWC', 'MLC', 'ITC', 'DPOS', 'CNC'], 'CGPA': 8.9, 'Semester': '5th', 'Section': '23412G3', 'RegdNo': 2341019202}\n"
     ]
    }
   ],
   "source": [
    "#Dictionaries\n",
    "\n",
    "student = {\n",
    "    \"Name\": \"Rajendra\",\n",
    "    \"Age\": 21,\n",
    "    \"Subjects\": [\"PFCD\", \"PPWC\", \"MLC\", \"ITC\", \"DPOS\", \"CNC\"],\n",
    "    \"CGPA\": 8.9,\n",
    "    \"Semester\":\"5th\",\n",
    "    \"Section\": \"23412G3\",\n",
    "    \"RegdNo\": 2341019202\n",
    "    \n",
    "}\n",
    "\n",
    "empty_dict = {}\n",
    "another_dict = dict(name = \"Aryan\", age = 22)\n",
    "\n",
    "print(\"Student: \", student)\n",
    "print(\"Empty: \", empty_dict)\n",
    "print(\"Another : \", another_dict)\n",
    "\n",
    "\n",
    "print(\"Age: \", student.get(\"Age\"))\n",
    "print(\"Name: \", student[\"Name\"])\n",
    "student[\"Email\"] = \"rajendra@gmail.com\"\n",
    "student[\"Name\"] = \"Rajendra Aryan Sahu\"\n",
    "print(student)\n",
    "\n",
    "removed = student.pop(\"Email\")\n",
    "print(removed)\n",
    "print(student)"
   ]
  },
  {
   "cell_type": "code",
   "execution_count": null,
   "id": "ed82470a",
   "metadata": {},
   "outputs": [],
   "source": []
  }
 ],
 "metadata": {
  "kernelspec": {
   "display_name": "Python 3 (ipykernel)",
   "language": "python",
   "name": "python3"
  },
  "language_info": {
   "codemirror_mode": {
    "name": "ipython",
    "version": 3
   },
   "file_extension": ".py",
   "mimetype": "text/x-python",
   "name": "python",
   "nbconvert_exporter": "python",
   "pygments_lexer": "ipython3",
   "version": "3.9.17"
  }
 },
 "nbformat": 4,
 "nbformat_minor": 5
}
