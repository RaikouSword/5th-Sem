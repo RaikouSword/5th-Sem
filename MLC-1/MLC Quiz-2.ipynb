{
 "cells": [
  {
   "cell_type": "code",
   "execution_count": 4,
   "id": "e08705ad",
   "metadata": {},
   "outputs": [
    {
     "name": "stdout",
     "output_type": "stream",
     "text": [
      "a    10\n",
      "b    20\n",
      "c    30\n",
      "dtype: int64\n",
      "30\n"
     ]
    }
   ],
   "source": [
    "#1.Create a Panda Series from the python list [10,20,30,40,50] with the custom indexes['a','b','c','d','e']\n",
    "# a. Print the first 3 elements\n",
    "# b. Access the element at index 'c'\n",
    "import pandas as pd\n",
    "arr = [10,20,30,40,50]\n",
    "panda_arr = pd.Series(arr,index=['a','b','c','d','e'])\n",
    "print(panda_arr[0:3])\n",
    "print(panda_arr['c'])"
   ]
  },
  {
   "cell_type": "code",
   "execution_count": 35,
   "id": "8a9b4859",
   "metadata": {},
   "outputs": [],
   "source": [
    "#2. Create dataframe with duplicate rows\n",
    "# a. Identify the duplicates and display only the duplicate row\n",
    "# b. Drop the duplicates while\n",
    "#   . Keeping the last occurence\n",
    "#   . Removing all duplicates\n",
    "import pandas as pd\n",
    "data = {\n",
    "    'Name':['Rajendra','Guru','Om','Sourav','Rajendra','Om'],\n",
    "    'Age':[10,20,30,40,10,30],\n",
    "    'City':['Angul','Cuttack','Jamshedpur','Baleswor','Angul','Jamshedpur']\n",
    "}\n",
    "df = pd.DataFrame(data)\n",
    "# print(df.duplicated())\n",
    "# df[df.duplicated()]"
   ]
  },
  {
   "cell_type": "code",
   "execution_count": 37,
   "id": "ec43df53",
   "metadata": {},
   "outputs": [
    {
     "data": {
      "text/html": [
       "<div>\n",
       "<style scoped>\n",
       "    .dataframe tbody tr th:only-of-type {\n",
       "        vertical-align: middle;\n",
       "    }\n",
       "\n",
       "    .dataframe tbody tr th {\n",
       "        vertical-align: top;\n",
       "    }\n",
       "\n",
       "    .dataframe thead th {\n",
       "        text-align: right;\n",
       "    }\n",
       "</style>\n",
       "<table border=\"1\" class=\"dataframe\">\n",
       "  <thead>\n",
       "    <tr style=\"text-align: right;\">\n",
       "      <th></th>\n",
       "      <th>Name</th>\n",
       "      <th>Age</th>\n",
       "      <th>City</th>\n",
       "    </tr>\n",
       "  </thead>\n",
       "  <tbody>\n",
       "    <tr>\n",
       "      <th>1</th>\n",
       "      <td>Guru</td>\n",
       "      <td>20</td>\n",
       "      <td>Cuttack</td>\n",
       "    </tr>\n",
       "    <tr>\n",
       "      <th>3</th>\n",
       "      <td>Sourav</td>\n",
       "      <td>40</td>\n",
       "      <td>Baleswor</td>\n",
       "    </tr>\n",
       "  </tbody>\n",
       "</table>\n",
       "</div>"
      ],
      "text/plain": [
       "     Name  Age      City\n",
       "1    Guru   20   Cuttack\n",
       "3  Sourav   40  Baleswor"
      ]
     },
     "execution_count": 37,
     "metadata": {},
     "output_type": "execute_result"
    }
   ],
   "source": [
    "dff = df.drop_duplicates(keep=False)\n",
    "dff"
   ]
  },
  {
   "cell_type": "code",
   "execution_count": 32,
   "id": "506bfe54",
   "metadata": {},
   "outputs": [
    {
     "name": "stdout",
     "output_type": "stream",
     "text": [
      "  Department Employee  Salary\n",
      "0         HR        A   40000\n",
      "2         HR        C   42000\n",
      "1         IT        B   50000\n",
      "3         IT        D   55000\n",
      "4    Finance        E   60000 \n",
      "\n"
     ]
    },
    {
     "data": {
      "text/html": [
       "<div>\n",
       "<style scoped>\n",
       "    .dataframe tbody tr th:only-of-type {\n",
       "        vertical-align: middle;\n",
       "    }\n",
       "\n",
       "    .dataframe tbody tr th {\n",
       "        vertical-align: top;\n",
       "    }\n",
       "\n",
       "    .dataframe thead th {\n",
       "        text-align: right;\n",
       "    }\n",
       "</style>\n",
       "<table border=\"1\" class=\"dataframe\">\n",
       "  <thead>\n",
       "    <tr style=\"text-align: right;\">\n",
       "      <th></th>\n",
       "      <th>Department</th>\n",
       "      <th>Employee</th>\n",
       "      <th>Salary</th>\n",
       "    </tr>\n",
       "  </thead>\n",
       "  <tbody>\n",
       "    <tr>\n",
       "      <th>4</th>\n",
       "      <td>Finance</td>\n",
       "      <td>E</td>\n",
       "      <td>60000</td>\n",
       "    </tr>\n",
       "    <tr>\n",
       "      <th>3</th>\n",
       "      <td>IT</td>\n",
       "      <td>D</td>\n",
       "      <td>55000</td>\n",
       "    </tr>\n",
       "    <tr>\n",
       "      <th>1</th>\n",
       "      <td>IT</td>\n",
       "      <td>B</td>\n",
       "      <td>50000</td>\n",
       "    </tr>\n",
       "    <tr>\n",
       "      <th>2</th>\n",
       "      <td>HR</td>\n",
       "      <td>C</td>\n",
       "      <td>42000</td>\n",
       "    </tr>\n",
       "    <tr>\n",
       "      <th>0</th>\n",
       "      <td>HR</td>\n",
       "      <td>A</td>\n",
       "      <td>40000</td>\n",
       "    </tr>\n",
       "  </tbody>\n",
       "</table>\n",
       "</div>"
      ],
      "text/plain": [
       "  Department Employee  Salary\n",
       "4    Finance        E   60000\n",
       "3         IT        D   55000\n",
       "1         IT        B   50000\n",
       "2         HR        C   42000\n",
       "0         HR        A   40000"
      ]
     },
     "execution_count": 32,
     "metadata": {},
     "output_type": "execute_result"
    }
   ],
   "source": [
    "# 3. Create a DataFrame \n",
    "# data = {\n",
    "#     'Department':['HR','IT','HR','IT','Finance'],\n",
    "#     'Employee':['A','B','C','D','E'],\n",
    "#     'Salary':[40000,50000,42000,55000,60000]\n",
    "# }\n",
    "# a. Find average salary per dept \n",
    "# b. Count employees in each dept\n",
    "# c. Sort employees by salary in ascending order\n",
    "# d. Sort by dept then by salary(descending)\n",
    "\n",
    "import pandas as pd\n",
    "data = {\n",
    "    'Department':['HR','IT','HR','IT','Finance'],\n",
    "    'Employee':['A','B','C','D','E'],\n",
    "    'Salary':[40000,50000,42000,55000,60000]\n",
    "}\n",
    "df = pd.DataFrame(data)\n",
    "\n",
    "print(df.sort_values(by='Salary',ascending=True),'\\n')\n",
    "dff = df\n",
    "dff.sort_values(by='Department',ascending=False)\n",
    "dff.sort_values(by='Salary',ascending = False)"
   ]
  },
  {
   "cell_type": "code",
   "execution_count": null,
   "id": "68e0df22",
   "metadata": {},
   "outputs": [],
   "source": []
  }
 ],
 "metadata": {
  "kernelspec": {
   "display_name": "Python 3 (ipykernel)",
   "language": "python",
   "name": "python3"
  },
  "language_info": {
   "codemirror_mode": {
    "name": "ipython",
    "version": 3
   },
   "file_extension": ".py",
   "mimetype": "text/x-python",
   "name": "python",
   "nbconvert_exporter": "python",
   "pygments_lexer": "ipython3",
   "version": "3.9.17"
  }
 },
 "nbformat": 4,
 "nbformat_minor": 5
}
