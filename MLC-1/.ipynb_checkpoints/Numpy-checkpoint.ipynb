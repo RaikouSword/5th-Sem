{
 "cells": [
  {
   "cell_type": "code",
   "execution_count": null,
   "id": "9c2b5f66",
   "metadata": {},
   "outputs": [],
   "source": [
    "import numpy as np"
   ]
  },
  {
   "cell_type": "code",
   "execution_count": 12,
   "id": "00a4028d",
   "metadata": {},
   "outputs": [
    {
     "name": "stdout",
     "output_type": "stream",
     "text": [
      "[1 2 3 4]\n",
      "[[1 2 3]\n",
      " [4 5 6]]\n"
     ]
    }
   ],
   "source": [
    "arr = np.array([1,2,3,4])\n",
    "print(arr)\n",
    "\n",
    "matrix = np.array([[1,2,3],[4,5,6]])\n",
    "print(matrix)"
   ]
  },
  {
   "cell_type": "code",
   "execution_count": 8,
   "id": "a9fb0830",
   "metadata": {},
   "outputs": [
    {
     "name": "stdout",
     "output_type": "stream",
     "text": [
      "[[0. 0. 0.]\n",
      " [0. 0. 0.]]\n",
      "[[1. 1. 1.]\n",
      " [1. 1. 1.]\n",
      " [1. 1. 1.]]\n",
      "[0 2 4 6 8]\n",
      "[0.         0.11111111 0.22222222 0.33333333 0.44444444 0.55555556\n",
      " 0.66666667 0.77777778 0.88888889 1.        ]\n",
      "[[1. 0. 0. 0.]\n",
      " [0. 1. 0. 0.]\n",
      " [0. 0. 1. 0.]\n",
      " [0. 0. 0. 1.]]\n"
     ]
    }
   ],
   "source": [
    "#Special Arrays\n",
    "\n",
    "zeros = np.zeros((2,3))\n",
    "ones = np.ones((3,3))\n",
    "arange = np.arange(0,10,2)\n",
    "linspace = np.linspace(0,1,10)\n",
    "identity = np.eye(4)\n",
    "\n",
    "print(zeros)\n",
    "print(ones)\n",
    "print(arange)\n",
    "print(linspace)\n",
    "print(identity)"
   ]
  },
  {
   "cell_type": "code",
   "execution_count": 13,
   "id": "2bca83ba",
   "metadata": {},
   "outputs": [
    {
     "name": "stdout",
     "output_type": "stream",
     "text": [
      "(4,)\n",
      "1\n",
      "4\n",
      "int64\n"
     ]
    }
   ],
   "source": [
    "print(arr.shape) #dimensions\n",
    "print(arr.ndim) # number of dimensions\n",
    "print(arr.size) # total number of elements\n",
    "print(arr.dtype) # data type"
   ]
  },
  {
   "cell_type": "code",
   "execution_count": 5,
   "id": "6d342faf",
   "metadata": {},
   "outputs": [
    {
     "name": "stdout",
     "output_type": "stream",
     "text": [
      "10\n",
      "50\n",
      "[20 30 40]\n",
      "3\n",
      "[2 5]\n"
     ]
    }
   ],
   "source": [
    "#Slicing\n",
    "a = np.array([10,20,30,40,50])\n",
    "print(a[0]) #first element\n",
    "print(a[-1]) #last element\n",
    "print(a[1:4]) #slicing\n",
    "\n",
    "b = np.array([[1,2,3],[4,5,6]])\n",
    "print(b[0,2]) #row 0 , col 2\n",
    "print(b[:,1]) # all rows, col 1"
   ]
  },
  {
   "cell_type": "code",
   "execution_count": 9,
   "id": "7ff012ec",
   "metadata": {},
   "outputs": [
    {
     "name": "stdout",
     "output_type": "stream",
     "text": [
      "[[1 2 3]\n",
      " [4 5 6]\n",
      " [7 8 9]]\n",
      "4\n",
      "[3 6 9]\n",
      "[4 5 6]\n"
     ]
    }
   ],
   "source": [
    "#Create an 2D aray of dim 3x3\n",
    "mat = np.array([[1,2,3],[4,5,6],[7,8,9]])\n",
    "# print(mat)\n",
    "print(mat[1,0])\n",
    "print(mat[:,2])\n",
    "print(mat[1,:])"
   ]
  },
  {
   "cell_type": "code",
   "execution_count": 12,
   "id": "54be109c",
   "metadata": {},
   "outputs": [
    {
     "name": "stdout",
     "output_type": "stream",
     "text": [
      "[11 22 33]\n",
      "[10 40 90]\n",
      "[1 4 9]\n",
      "[1.         1.41421356 1.73205081]\n",
      "[ 2.71828183  7.3890561  20.08553692]\n",
      "[0.84147098 0.90929743 0.14112001]\n"
     ]
    }
   ],
   "source": [
    "x = np.array([1,2,3])\n",
    "y = np.array([10,20,30])\n",
    "\n",
    "print(x+y)\n",
    "print(x*y)\n",
    "print(x**2)\n",
    "\n",
    "print(np.sqrt(x))\n",
    "print(np.exp(x))\n",
    "print(np.sin(x))"
   ]
  },
  {
   "cell_type": "code",
   "execution_count": 15,
   "id": "e224c652",
   "metadata": {},
   "outputs": [
    {
     "name": "stdout",
     "output_type": "stream",
     "text": [
      "[[ 6  6]\n",
      " [15 15]]\n",
      "[[ 6  6]\n",
      " [15 15]]\n",
      "[[1 4]\n",
      " [2 5]\n",
      " [3 6]]\n"
     ]
    }
   ],
   "source": [
    "a = np.array([[1,2,3],[4,5,6]])\n",
    "b = np.array([[1,1],[1,1],[1,1]])\n",
    "\n",
    "print(a @ b) #multiplication\n",
    "print(np.dot(a,b)) #dot product\n",
    "print(a.T) #transpose"
   ]
  },
  {
   "cell_type": "code",
   "execution_count": 16,
   "id": "f722e8dc",
   "metadata": {},
   "outputs": [
    {
     "name": "stdout",
     "output_type": "stream",
     "text": [
      "15\n",
      "3.0\n",
      "5\n",
      "1\n",
      "1.4142135623730951\n"
     ]
    }
   ],
   "source": [
    "arr = np.array([1,2,3,4,5])\n",
    "\n",
    "print(arr.sum())\n",
    "print(arr.mean())\n",
    "print(arr.max())\n",
    "print(arr.min())\n",
    "print(arr.std())"
   ]
  },
  {
   "cell_type": "code",
   "execution_count": 21,
   "id": "8932b1bc",
   "metadata": {},
   "outputs": [
    {
     "name": "stdout",
     "output_type": "stream",
     "text": [
      "[[ 1  2]\n",
      " [ 3  4]\n",
      " [ 5  6]\n",
      " [ 7  8]\n",
      " [ 9 10]\n",
      " [11 12]]\n",
      "[ 1  2  3  4  5  6  7  8  9 10 11 12]\n"
     ]
    }
   ],
   "source": [
    "arr = np.arange(1,13)\n",
    "reshaped = arr.reshape(6,2)\n",
    "print(reshaped)\n",
    "\n",
    "flattend = reshaped.flatten()\n",
    "print(flattend)"
   ]
  },
  {
   "cell_type": "code",
   "execution_count": 23,
   "id": "a834d545",
   "metadata": {},
   "outputs": [
    {
     "name": "stdout",
     "output_type": "stream",
     "text": [
      "[0.64518331 0.36599871 0.00878095]\n",
      "[3 6 4 6 1]\n",
      "[[ 0.79002149 -0.33411261  1.02991197]\n",
      " [-0.08441395 -0.73308452 -0.24126997]]\n"
     ]
    }
   ],
   "source": [
    "print(np.random.rand(3))\n",
    "print(np.random.randint(1,10,5)) #(start, stop, total numbers to be generated)\n",
    "print(np.random.randn(2,3)) #mat of size 2x3"
   ]
  },
  {
   "cell_type": "code",
   "execution_count": 24,
   "id": "c8ab24b4",
   "metadata": {},
   "outputs": [
    {
     "name": "stdout",
     "output_type": "stream",
     "text": [
      "Converted to float:  [ 1.  2.  3.  4.  5.  6.  7.  8.  9. 10. 11. 12.]\n",
      "Data type:  float64\n"
     ]
    }
   ],
   "source": [
    "#Convert to Float\n",
    "arr_float = arr.astype(float)\n",
    "print(\"Converted to float: \", arr_float)\n",
    "print(\"Data type: \", arr_float.dtype)"
   ]
  },
  {
   "cell_type": "code",
   "execution_count": 29,
   "id": "a99e4b12",
   "metadata": {},
   "outputs": [
    {
     "name": "stdout",
     "output_type": "stream",
     "text": [
      "50\n",
      "Grade: C\n"
     ]
    }
   ],
   "source": [
    "#Take marks as input(0-100) of elif else t0 print the grade\n",
    "\n",
    "marks = int(input())\n",
    "if marks>=90 and marks<=100:\n",
    "    print(\"Grade: A\")\n",
    "elif marks>=75 and marks<=89:\n",
    "    print(\"Grade: B\")\n",
    "elif marks>=50 and marks<=74:\n",
    "    print(\"Grade: C\")\n",
    "else:\n",
    "    print(\"Grade: Fail\")"
   ]
  },
  {
   "cell_type": "code",
   "execution_count": 31,
   "id": "912d84ed",
   "metadata": {},
   "outputs": [
    {
     "name": "stdout",
     "output_type": "stream",
     "text": [
      "253\n",
      "10\n"
     ]
    }
   ],
   "source": [
    "#Accept a number from the user and use a while loop to find the sum of its digit\n",
    "\n",
    "num = int(input())\n",
    "sum = 0\n",
    "while num>0:\n",
    "    sum+=num%10\n",
    "    num//=10\n",
    "print(sum)"
   ]
  },
  {
   "cell_type": "code",
   "execution_count": 36,
   "id": "f465aef0",
   "metadata": {},
   "outputs": [
    {
     "name": "stdout",
     "output_type": "stream",
     "text": [
      "6\n",
      "Not Prime\n"
     ]
    }
   ],
   "source": [
    "#Write a function isPrime(n) that returns True if a number is prime, otherwise False. Test if for multiple values\n",
    "\n",
    "def isPrime(n):\n",
    "    count=0\n",
    "    for num in range(1,n+1):\n",
    "        if n%num==0:\n",
    "            count+=1\n",
    "    print(\"Prime\") if count==2 else print(\"Not Prime\")\n",
    "isPrime(int(input()))"
   ]
  },
  {
   "cell_type": "code",
   "execution_count": 48,
   "id": "8ecea101",
   "metadata": {},
   "outputs": [
    {
     "name": "stdout",
     "output_type": "stream",
     "text": [
      "taat\n",
      "Palindrome\n"
     ]
    }
   ],
   "source": [
    "#Palindrome or Not??\n",
    "str = input()\n",
    "reversed_str = str[::-1]\n",
    "print(\"Palindrome\") if str==reversed_str else print(\"Not Palindrome\")"
   ]
  },
  {
   "cell_type": "code",
   "execution_count": 56,
   "id": "3196e81a",
   "metadata": {},
   "outputs": [
    {
     "name": "stdout",
     "output_type": "stream",
     "text": [
      "[[ 30  36  42]\n",
      " [ 66  81  96]\n",
      " [102 126 150]]\n",
      "-0.0\n",
      "[[ 3.15251974e+15 -6.30503948e+15  3.15251974e+15]\n",
      " [-6.30503948e+15  1.26100790e+16 -6.30503948e+15]\n",
      " [ 3.15251974e+15 -6.30503948e+15  3.15251974e+15]]\n",
      "[[ 0.  1. -2.]\n",
      " [ 0.  2. -4.]\n",
      " [ 0.  3. -2.]]\n"
     ]
    }
   ],
   "source": [
    "#Create 2 3x3 matrix and perform\n",
    "# a.Matrix multiplication\n",
    "# b.Determinant of a matrix\n",
    "# c.Inverse of a matrix\n",
    "# Verfiy that multiplying a matrix with its inverse gives identity matrix\n",
    "\n",
    "mat1 = np.array([[1,2,3],[4,5,6],[7,8,9]])\n",
    "mat2 = np.array([[1,2,3],[4,5,6],[7,8,9]])\n",
    "mat_multiplication = mat1 @ mat2\n",
    "mat_determinant = np.linalg.det(mat1).round()\n",
    "mat_inverse = np.linalg.inv(mat1).round()\n",
    "print(mat_multiplication)\n",
    "print(mat_determinant)\n",
    "print(mat_inverse)\n",
    "\n",
    "print(mat1 @ mat_inverse)"
   ]
  },
  {
   "cell_type": "code",
   "execution_count": 59,
   "id": "9fd0278f",
   "metadata": {},
   "outputs": [
    {
     "name": "stdout",
     "output_type": "stream",
     "text": [
      "10 20 30 40 50 60 70 80 90 100\n",
      "55.0\n",
      "60 70 80 90 100 "
     ]
    }
   ],
   "source": [
    "# Suppose you have exam marks of 10 students stored in a python list \n",
    "# Convert it into numpy array and compute \n",
    "# a. Average marks of the class\n",
    "# b. Students who scored above average\n",
    "\n",
    "arr = list(map(int,input().split()))\n",
    "np_arr = np.array(arr)\n",
    "print(np.mean(np_arr))\n",
    "for mark in np_arr:\n",
    "    if mark>np.mean(np_arr):\n",
    "        print(mark, end=\" \")"
   ]
  },
  {
   "cell_type": "code",
   "execution_count": null,
   "id": "e75fa5f7",
   "metadata": {},
   "outputs": [],
   "source": []
  }
 ],
 "metadata": {
  "kernelspec": {
   "display_name": "Python 3 (ipykernel)",
   "language": "python",
   "name": "python3"
  },
  "language_info": {
   "codemirror_mode": {
    "name": "ipython",
    "version": 3
   },
   "file_extension": ".py",
   "mimetype": "text/x-python",
   "name": "python",
   "nbconvert_exporter": "python",
   "pygments_lexer": "ipython3",
   "version": "3.9.17"
  }
 },
 "nbformat": 4,
 "nbformat_minor": 5
}
