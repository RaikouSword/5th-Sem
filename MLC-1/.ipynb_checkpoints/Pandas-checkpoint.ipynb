{
 "cells": [
  {
   "cell_type": "code",
   "execution_count": 1,
   "id": "12ff3c84",
   "metadata": {},
   "outputs": [],
   "source": [
    "import pandas as pd"
   ]
  },
  {
   "cell_type": "code",
   "execution_count": 3,
   "id": "a6b49209",
   "metadata": {},
   "outputs": [
    {
     "name": "stdout",
     "output_type": "stream",
     "text": [
      "0    1\n",
      "1    2\n",
      "2    3\n",
      "dtype: int64\n"
     ]
    }
   ],
   "source": [
    "#List to Series with default index\n",
    "s = pd.Series([1,2,3])\n",
    "print(s)"
   ]
  },
  {
   "cell_type": "code",
   "execution_count": 5,
   "id": "54513644",
   "metadata": {},
   "outputs": [
    {
     "name": "stdout",
     "output_type": "stream",
     "text": [
      "Series([], dtype: float64)\n"
     ]
    },
    {
     "name": "stderr",
     "output_type": "stream",
     "text": [
      "/tmp/ipykernel_6911/3780755642.py:1: DeprecationWarning: The default dtype for empty Series will be 'object' instead of 'float64' in a future version. Specify a dtype explicitly to silence this warning.\n",
      "  S = pd.Series()\n"
     ]
    }
   ],
   "source": [
    "S = pd.Series() #Empty series \n",
    "print(S)"
   ]
  },
  {
   "cell_type": "code",
   "execution_count": 6,
   "id": "9f167f6b",
   "metadata": {},
   "outputs": [
    {
     "name": "stdout",
     "output_type": "stream",
     "text": [
      "a    1\n",
      "b    2\n",
      "c    3\n",
      "dtype: int64\n"
     ]
    }
   ],
   "source": [
    "ss = pd.Series([1,2,3], index = ['a', 'b', 'c'])\n",
    "print(ss)"
   ]
  },
  {
   "cell_type": "code",
   "execution_count": 8,
   "id": "095d82d3",
   "metadata": {},
   "outputs": [
    {
     "name": "stdout",
     "output_type": "stream",
     "text": [
      "a    1\n",
      "b    2\n",
      "c    3\n",
      "dtype: int64\n"
     ]
    }
   ],
   "source": [
    "#Dictionary to Series\n",
    "SS = pd.Series({'a':1, 'b':2, 'c':3})\n",
    "print(SS)"
   ]
  },
  {
   "cell_type": "code",
   "execution_count": 10,
   "id": "f7829c65",
   "metadata": {},
   "outputs": [
    {
     "name": "stdout",
     "output_type": "stream",
     "text": [
      "a    1\n",
      "b    2\n",
      "c    3\n",
      "d    4\n",
      "dtype: int64\n"
     ]
    }
   ],
   "source": [
    "sss = pd.Series((1,2,3,4), index=['a', 'b', 'c', 'd'])\n",
    "print(sss)"
   ]
  },
  {
   "cell_type": "code",
   "execution_count": 14,
   "id": "1841721f",
   "metadata": {},
   "outputs": [
    {
     "name": "stdout",
     "output_type": "stream",
     "text": [
      "4\n"
     ]
    }
   ],
   "source": [
    "print(sss['d'])"
   ]
  },
  {
   "cell_type": "code",
   "execution_count": 19,
   "id": "3b7cdb71",
   "metadata": {},
   "outputs": [
    {
     "name": "stdout",
     "output_type": "stream",
     "text": [
      "a    1\n",
      "b    2\n",
      "c    3\n",
      "dtype: int64\n"
     ]
    }
   ],
   "source": [
    "print(sss[:3])"
   ]
  },
  {
   "cell_type": "code",
   "execution_count": 23,
   "id": "2725407d",
   "metadata": {},
   "outputs": [
    {
     "name": "stdout",
     "output_type": "stream",
     "text": [
      "a    1\n",
      "d    4\n",
      "dtype: int64\n"
     ]
    }
   ],
   "source": [
    "print(sss[['a','d']])"
   ]
  },
  {
   "cell_type": "code",
   "execution_count": 29,
   "id": "ef073329",
   "metadata": {},
   "outputs": [
    {
     "name": "stdout",
     "output_type": "stream",
     "text": [
      "c    3\n",
      "d    4\n",
      "dtype: int64\n"
     ]
    }
   ],
   "source": [
    "print(sss[sss>2])"
   ]
  },
  {
   "cell_type": "code",
   "execution_count": 28,
   "id": "2f75ad81",
   "metadata": {},
   "outputs": [
    {
     "name": "stdout",
     "output_type": "stream",
     "text": [
      "[a    False\n",
      "b    False\n",
      "c     True\n",
      "d     True\n",
      "dtype: bool]\n"
     ]
    }
   ],
   "source": [
    "print([sss>2])"
   ]
  },
  {
   "cell_type": "code",
   "execution_count": 30,
   "id": "39280101",
   "metadata": {},
   "outputs": [
    {
     "name": "stdout",
     "output_type": "stream",
     "text": [
      "a    2\n",
      "b    4\n",
      "c    6\n",
      "d    8\n",
      "dtype: int64\n"
     ]
    }
   ],
   "source": [
    "print(sss*2)"
   ]
  },
  {
   "cell_type": "code",
   "execution_count": 41,
   "id": "b6d84b67",
   "metadata": {},
   "outputs": [
    {
     "name": "stdout",
     "output_type": "stream",
     "text": [
      "       Name  Age        City\n",
      "0      Guru   21     Cuttack\n",
      "1  Rajendra   21       Angul\n",
      "2        Om   21  Jamshedpur\n",
      "3    Sourav   20    Balasore\n",
      "4       Sai   21        BBSR\n"
     ]
    }
   ],
   "source": [
    "data = {\n",
    "    'Name':['Guru', 'Rajendra', 'Om', 'Sourav','Sai'],\n",
    "    'Age': [21,21,21,20,21],\n",
    "    'City':['Cuttack','Angul','Jamshedpur','Balasore','BBSR']\n",
    "}\n",
    "\n",
    "df = pd.DataFrame(data)\n",
    "print(df)"
   ]
  },
  {
   "cell_type": "code",
   "execution_count": 42,
   "id": "0c2a0f1b",
   "metadata": {},
   "outputs": [
    {
     "name": "stdout",
     "output_type": "stream",
     "text": [
      "(5, 3)\n",
      "\n",
      "<class 'pandas.core.frame.DataFrame'>\n",
      "RangeIndex: 5 entries, 0 to 4\n",
      "Data columns (total 3 columns):\n",
      " #   Column  Non-Null Count  Dtype \n",
      "---  ------  --------------  ----- \n",
      " 0   Name    5 non-null      object\n",
      " 1   Age     5 non-null      int64 \n",
      " 2   City    5 non-null      object\n",
      "dtypes: int64(1), object(2)\n",
      "memory usage: 248.0+ bytes\n",
      "None\n",
      "\n",
      "             Age\n",
      "count   5.000000\n",
      "mean   20.800000\n",
      "std     0.447214\n",
      "min    20.000000\n",
      "25%    21.000000\n",
      "50%    21.000000\n",
      "75%    21.000000\n",
      "max    21.000000\n"
     ]
    }
   ],
   "source": [
    "print(df.shape)\n",
    "print()\n",
    "print(df.info())#rw-rw-r--1\n",
    "print()\n",
    "print(df.describe())"
   ]
  },
  {
   "cell_type": "code",
   "execution_count": 46,
   "id": "7894eb2f",
   "metadata": {},
   "outputs": [
    {
     "name": "stdout",
     "output_type": "stream",
     "text": [
      "0        Guru\n",
      "1    Rajendra\n",
      "2          Om\n",
      "3      Sourav\n",
      "4         Sai\n",
      "Name: Name, dtype: object \n",
      "\n",
      "       Name  Age\n",
      "0      Guru   21\n",
      "1  Rajendra   21\n",
      "2        Om   21\n",
      "3    Sourav   20\n",
      "4       Sai   21 \n",
      "\n",
      "Name       Guru\n",
      "Age          21\n",
      "City    Cuttack\n",
      "Name: 0, dtype: object \n",
      "\n",
      "Guru \n",
      "\n"
     ]
    }
   ],
   "source": [
    "print(df['Name'],\"\\n\")\n",
    "print(df[['Name','Age']],\"\\n\")\n",
    "print(df.iloc[0],\"\\n\")\n",
    "print(df.loc[0,'Name'],\"\\n\")"
   ]
  },
  {
   "cell_type": "code",
   "execution_count": null,
   "id": "71b78303",
   "metadata": {},
   "outputs": [],
   "source": []
  }
 ],
 "metadata": {
  "kernelspec": {
   "display_name": "Python 3 (ipykernel)",
   "language": "python",
   "name": "python3"
  },
  "language_info": {
   "codemirror_mode": {
    "name": "ipython",
    "version": 3
   },
   "file_extension": ".py",
   "mimetype": "text/x-python",
   "name": "python",
   "nbconvert_exporter": "python",
   "pygments_lexer": "ipython3",
   "version": "3.9.17"
  }
 },
 "nbformat": 4,
 "nbformat_minor": 5
}
