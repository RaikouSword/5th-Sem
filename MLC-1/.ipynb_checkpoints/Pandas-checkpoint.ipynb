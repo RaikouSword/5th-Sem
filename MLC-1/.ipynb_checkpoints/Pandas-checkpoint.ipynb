{
 "cells": [
  {
   "cell_type": "code",
   "execution_count": 2,
   "id": "12ff3c84",
   "metadata": {},
   "outputs": [],
   "source": [
    "import pandas as pd"
   ]
  },
  {
   "cell_type": "code",
   "execution_count": 3,
   "id": "a6b49209",
   "metadata": {},
   "outputs": [
    {
     "name": "stdout",
     "output_type": "stream",
     "text": [
      "0    1\n",
      "1    2\n",
      "2    3\n",
      "dtype: int64\n"
     ]
    }
   ],
   "source": [
    "#List to Series with default index\n",
    "s = pd.Series([1,2,3])\n",
    "print(s)"
   ]
  },
  {
   "cell_type": "code",
   "execution_count": 5,
   "id": "54513644",
   "metadata": {},
   "outputs": [
    {
     "name": "stdout",
     "output_type": "stream",
     "text": [
      "Series([], dtype: float64)\n"
     ]
    },
    {
     "name": "stderr",
     "output_type": "stream",
     "text": [
      "/tmp/ipykernel_6911/3780755642.py:1: DeprecationWarning: The default dtype for empty Series will be 'object' instead of 'float64' in a future version. Specify a dtype explicitly to silence this warning.\n",
      "  S = pd.Series()\n"
     ]
    }
   ],
   "source": [
    "S = pd.Series() #Empty series \n",
    "print(S)"
   ]
  },
  {
   "cell_type": "code",
   "execution_count": 6,
   "id": "9f167f6b",
   "metadata": {},
   "outputs": [
    {
     "name": "stdout",
     "output_type": "stream",
     "text": [
      "a    1\n",
      "b    2\n",
      "c    3\n",
      "dtype: int64\n"
     ]
    }
   ],
   "source": [
    "ss = pd.Series([1,2,3], index = ['a', 'b', 'c'])\n",
    "print(ss)"
   ]
  },
  {
   "cell_type": "code",
   "execution_count": 8,
   "id": "095d82d3",
   "metadata": {},
   "outputs": [
    {
     "name": "stdout",
     "output_type": "stream",
     "text": [
      "a    1\n",
      "b    2\n",
      "c    3\n",
      "dtype: int64\n"
     ]
    }
   ],
   "source": [
    "#Dictionary to Series\n",
    "SS = pd.Series({'a':1, 'b':2, 'c':3})\n",
    "print(SS)"
   ]
  },
  {
   "cell_type": "code",
   "execution_count": 10,
   "id": "f7829c65",
   "metadata": {},
   "outputs": [
    {
     "name": "stdout",
     "output_type": "stream",
     "text": [
      "a    1\n",
      "b    2\n",
      "c    3\n",
      "d    4\n",
      "dtype: int64\n"
     ]
    }
   ],
   "source": [
    "sss = pd.Series((1,2,3,4), index=['a', 'b', 'c', 'd'])\n",
    "print(sss)"
   ]
  },
  {
   "cell_type": "code",
   "execution_count": 14,
   "id": "1841721f",
   "metadata": {},
   "outputs": [
    {
     "name": "stdout",
     "output_type": "stream",
     "text": [
      "4\n"
     ]
    }
   ],
   "source": [
    "print(sss['d'])"
   ]
  },
  {
   "cell_type": "code",
   "execution_count": 19,
   "id": "3b7cdb71",
   "metadata": {},
   "outputs": [
    {
     "name": "stdout",
     "output_type": "stream",
     "text": [
      "a    1\n",
      "b    2\n",
      "c    3\n",
      "dtype: int64\n"
     ]
    }
   ],
   "source": [
    "print(sss[:3])"
   ]
  },
  {
   "cell_type": "code",
   "execution_count": 23,
   "id": "2725407d",
   "metadata": {},
   "outputs": [
    {
     "name": "stdout",
     "output_type": "stream",
     "text": [
      "a    1\n",
      "d    4\n",
      "dtype: int64\n"
     ]
    }
   ],
   "source": [
    "print(sss[['a','d']])"
   ]
  },
  {
   "cell_type": "code",
   "execution_count": 29,
   "id": "ef073329",
   "metadata": {},
   "outputs": [
    {
     "name": "stdout",
     "output_type": "stream",
     "text": [
      "c    3\n",
      "d    4\n",
      "dtype: int64\n"
     ]
    }
   ],
   "source": [
    "print(sss[sss>2])"
   ]
  },
  {
   "cell_type": "code",
   "execution_count": 28,
   "id": "2f75ad81",
   "metadata": {},
   "outputs": [
    {
     "name": "stdout",
     "output_type": "stream",
     "text": [
      "[a    False\n",
      "b    False\n",
      "c     True\n",
      "d     True\n",
      "dtype: bool]\n"
     ]
    }
   ],
   "source": [
    "print([sss>2])"
   ]
  },
  {
   "cell_type": "code",
   "execution_count": 30,
   "id": "39280101",
   "metadata": {},
   "outputs": [
    {
     "name": "stdout",
     "output_type": "stream",
     "text": [
      "a    2\n",
      "b    4\n",
      "c    6\n",
      "d    8\n",
      "dtype: int64\n"
     ]
    }
   ],
   "source": [
    "print(sss*2)"
   ]
  },
  {
   "cell_type": "code",
   "execution_count": 41,
   "id": "b6d84b67",
   "metadata": {},
   "outputs": [
    {
     "name": "stdout",
     "output_type": "stream",
     "text": [
      "       Name  Age        City\n",
      "0      Guru   21     Cuttack\n",
      "1  Rajendra   21       Angul\n",
      "2        Om   21  Jamshedpur\n",
      "3    Sourav   20    Balasore\n",
      "4       Sai   21        BBSR\n"
     ]
    }
   ],
   "source": [
    "data = {\n",
    "    'Name':['Guru', 'Rajendra', 'Om', 'Sourav','Sai'],\n",
    "    'Age': [21,21,21,20,21],\n",
    "    'City':['Cuttack','Angul','Jamshedpur','Balasore','BBSR']\n",
    "}\n",
    "\n",
    "df = pd.DataFrame(data)\n",
    "print(df)"
   ]
  },
  {
   "cell_type": "code",
   "execution_count": 42,
   "id": "0c2a0f1b",
   "metadata": {},
   "outputs": [
    {
     "name": "stdout",
     "output_type": "stream",
     "text": [
      "(5, 3)\n",
      "\n",
      "<class 'pandas.core.frame.DataFrame'>\n",
      "RangeIndex: 5 entries, 0 to 4\n",
      "Data columns (total 3 columns):\n",
      " #   Column  Non-Null Count  Dtype \n",
      "---  ------  --------------  ----- \n",
      " 0   Name    5 non-null      object\n",
      " 1   Age     5 non-null      int64 \n",
      " 2   City    5 non-null      object\n",
      "dtypes: int64(1), object(2)\n",
      "memory usage: 248.0+ bytes\n",
      "None\n",
      "\n",
      "             Age\n",
      "count   5.000000\n",
      "mean   20.800000\n",
      "std     0.447214\n",
      "min    20.000000\n",
      "25%    21.000000\n",
      "50%    21.000000\n",
      "75%    21.000000\n",
      "max    21.000000\n"
     ]
    }
   ],
   "source": [
    "print(df.shape)\n",
    "print()\n",
    "print(df.info())#rw-rw-r--1\n",
    "print()\n",
    "print(df.describe())"
   ]
  },
  {
   "cell_type": "code",
   "execution_count": 46,
   "id": "7894eb2f",
   "metadata": {},
   "outputs": [
    {
     "name": "stdout",
     "output_type": "stream",
     "text": [
      "0        Guru\n",
      "1    Rajendra\n",
      "2          Om\n",
      "3      Sourav\n",
      "4         Sai\n",
      "Name: Name, dtype: object \n",
      "\n",
      "       Name  Age\n",
      "0      Guru   21\n",
      "1  Rajendra   21\n",
      "2        Om   21\n",
      "3    Sourav   20\n",
      "4       Sai   21 \n",
      "\n",
      "Name       Guru\n",
      "Age          21\n",
      "City    Cuttack\n",
      "Name: 0, dtype: object \n",
      "\n",
      "Guru \n",
      "\n"
     ]
    }
   ],
   "source": [
    "print(df['Name'],\"\\n\")\n",
    "print(df[['Name','Age']],\"\\n\")\n",
    "print(df.iloc[0],\"\\n\")\n",
    "print(df.loc[0,'Name'],\"\\n\")"
   ]
  },
  {
   "cell_type": "code",
   "execution_count": 5,
   "id": "71b78303",
   "metadata": {},
   "outputs": [
    {
     "name": "stdout",
     "output_type": "stream",
     "text": [
      "0    10\n",
      "1    20\n",
      "2    30\n",
      "dtype: int64\n"
     ]
    }
   ],
   "source": [
    "#Series with nd Array\n",
    "import pandas as pd\n",
    "import numpy as np\n",
    "\n",
    "arr = np.array([10,20,30])\n",
    "s = pd.Series(arr)\n",
    "print(s)"
   ]
  },
  {
   "cell_type": "code",
   "execution_count": 9,
   "id": "82895f69",
   "metadata": {},
   "outputs": [
    {
     "name": "stdout",
     "output_type": "stream",
     "text": [
      "1    a\n",
      "2    b\n",
      "3    1\n",
      "4    2\n",
      "dtype: object\n"
     ]
    }
   ],
   "source": [
    "#Series with Mutable index\n",
    "ar = np.array(['a','b',1,2])\n",
    "ss = pd.Series(ar, index=['1','2','3','4'])\n",
    "print(ss)"
   ]
  },
  {
   "cell_type": "code",
   "execution_count": 11,
   "id": "67ca2083",
   "metadata": {},
   "outputs": [
    {
     "name": "stdout",
     "output_type": "stream",
     "text": [
      "0    Rajendra\n",
      "1    Rajendra\n",
      "2    Rajendra\n",
      "3    Rajendra\n",
      "4    Rajendra\n",
      "5    Rajendra\n",
      "6    Rajendra\n",
      "7    Rajendra\n",
      "8    Rajendra\n",
      "9    Rajendra\n",
      "dtype: object\n"
     ]
    }
   ],
   "source": [
    "#Creating Series from Scalar Values\n",
    "S = pd.Series('Rajendra',index=[0,1,2,3,4,5,6,7,8,9])\n",
    "print(S)"
   ]
  },
  {
   "cell_type": "code",
   "execution_count": 24,
   "id": "a8b462ff",
   "metadata": {},
   "outputs": [
    {
     "name": "stdout",
     "output_type": "stream",
     "text": [
      "1    1\n",
      "2    2\n",
      "3    3\n",
      "4    4\n",
      "dtype: int64 \n",
      "\n",
      "1    10\n",
      "2    20\n",
      "3    30\n",
      "4    40\n",
      "dtype: int64 \n",
      "\n",
      "1    11\n",
      "2    22\n",
      "3    33\n",
      "4    44\n",
      "dtype: int64 \n",
      "\n",
      "1    11.0\n",
      "2    22.0\n",
      "3    33.0\n",
      "4    44.0\n",
      "5     NaN\n",
      "dtype: float64 \n",
      "\n",
      "1    11.0\n",
      "2    22.0\n",
      "3    33.0\n",
      "4    44.0\n",
      "5    55.0\n",
      "dtype: float64\n"
     ]
    }
   ],
   "source": [
    "ar1 = np.array([1,2,3,4])\n",
    "ar2 = np.array([10,20,30,40])\n",
    "ar3 = np.array([1,2,3,4,5])\n",
    "s1 = pd.Series(ar1,index=['1','2','3','4'])\n",
    "s2 = pd.Series(ar2,index=['1','2','3','4'])\n",
    "s3 = pd.Series(ar3,index=['1','2','3','4','5'])\n",
    "print(s1,\"\\n\")\n",
    "print(s2,\"\\n\")\n",
    "print(s1+s2,\"\\n\")\n",
    "print(s2+s3,\"\\n\")\n",
    "print(s2.add(s3,fill_value=50))"
   ]
  },
  {
   "cell_type": "code",
   "execution_count": 27,
   "id": "1235fc1b",
   "metadata": {},
   "outputs": [
    {
     "name": "stdout",
     "output_type": "stream",
     "text": [
      "0    61\n",
      "1    51\n",
      "2    31\n",
      "3    41\n",
      "4    71\n",
      "dtype: int64\n",
      "0    61\n",
      "1    51\n",
      "2    31\n",
      "dtype: int64\n",
      "2    31\n",
      "3    41\n",
      "4    71\n",
      "5    21\n",
      "6    81\n",
      "dtype: int64\n",
      "6    81\n",
      "dtype: int64\n"
     ]
    }
   ],
   "source": [
    "arr = np.array([61,51,31,41,71,21,81])\n",
    "s = pd.Series(arr)\n",
    "print(s.head())\n",
    "print(s.head(3))\n",
    "print(s.tail())\n",
    "print(s.tail(1))"
   ]
  },
  {
   "cell_type": "code",
   "execution_count": 30,
   "id": "53208e8d",
   "metadata": {},
   "outputs": [
    {
     "name": "stdout",
     "output_type": "stream",
     "text": [
      "0    10\n",
      "1    20\n",
      "2    30\n",
      "3    40\n",
      "4    50\n",
      "5    60\n",
      "6    70\n",
      "dtype: int64\n",
      "0    10\n",
      "1    20\n",
      "2    30\n",
      "dtype: int64\n",
      "0    10\n",
      "1    20\n",
      "dtype: int64\n",
      "3    40\n",
      "4    50\n",
      "dtype: int64\n",
      "3    40\n",
      "dtype: int64\n",
      "2    30\n",
      "3    40\n",
      "dtype: int64\n"
     ]
    }
   ],
   "source": [
    "arr =np.array([10,20,30,40,50,60,70])\n",
    "s = pd.Series(arr)\n",
    "print(s)\n",
    "print(s.loc[:2]) #inclusive of 2 as it just do indexing\n",
    "print(s.iloc[:2]) #exclusive of 2 as it do +1 and py ignores last\n",
    "print(s.loc[3:4])\n",
    "print(s.iloc[3:4])\n",
    "print(s.loc[2:3])"
   ]
  },
  {
   "cell_type": "code",
   "execution_count": 31,
   "id": "8233b48f",
   "metadata": {},
   "outputs": [
    {
     "name": "stdout",
     "output_type": "stream",
     "text": [
      "Name               [Guru, Rajendra, Om, Sourav, Sai]\n",
      "Age                             [21, 21, 21, 20, 21]\n",
      "City    [Cuttack, Angul, Jamshedpur, Balasore, BBSR]\n",
      "dtype: object\n"
     ]
    }
   ],
   "source": [
    "dicti = {\n",
    "    'Name':['Guru', 'Rajendra', 'Om', 'Sourav','Sai'],\n",
    "    'Age': [21,21,21,20,21],\n",
    "    'City':['Cuttack','Angul','Jamshedpur','Balasore','BBSR']\n",
    "}\n",
    "\n",
    "s = pd.Series(dicti)\n",
    "print(s)"
   ]
  },
  {
   "cell_type": "code",
   "execution_count": 6,
   "id": "ebfd5fe9",
   "metadata": {},
   "outputs": [
    {
     "name": "stdout",
     "output_type": "stream",
     "text": [
      "0    Rajendra\n",
      "1          20\n",
      "dtype: object\n",
      "RangeIndex(start=0, stop=2, step=1)\n"
     ]
    }
   ],
   "source": [
    "import pandas as pd\n",
    "import numpy as np\n",
    "tuplee = (\"Rajendra\", 20)\n",
    "s = pd.Series(tuplee)\n",
    "print(s)\n",
    "print(s.index)"
   ]
  },
  {
   "cell_type": "code",
   "execution_count": 7,
   "id": "7ef846b6",
   "metadata": {},
   "outputs": [
    {
     "name": "stdout",
     "output_type": "stream",
     "text": [
      "   0\n",
      "0  a\n",
      "1  b\n",
      "2  c\n"
     ]
    }
   ],
   "source": [
    "s= pd.Series(['a','b','c'])\n",
    "df = pd.DataFrame(s)\n",
    "print(df)"
   ]
  },
  {
   "cell_type": "code",
   "execution_count": 9,
   "id": "d16e33dd",
   "metadata": {},
   "outputs": [
    {
     "name": "stdout",
     "output_type": "stream",
     "text": [
      "       Name  Char Alias\n",
      "0  Rajendra     8   NIL\n",
      "1     Aryan     5   NIL\n"
     ]
    }
   ],
   "source": [
    "name = pd.Series([\"Rajendra\",\"Aryan\"])\n",
    "char = pd.Series([8,5])\n",
    "alias = pd.Series([\"NIL\",\"NIL\"])\n",
    "dicti = {\"Name\": name, \"Char\": char, \"Alias\":alias}\n",
    "df = pd.DataFrame(dicti)\n",
    "print(df)"
   ]
  },
  {
   "cell_type": "code",
   "execution_count": 20,
   "id": "357be12b",
   "metadata": {},
   "outputs": [
    {
     "name": "stdout",
     "output_type": "stream",
     "text": [
      "    D1   D2   D3\n",
      "0  D11  D22  D33\n",
      "1  F11  F22  F33\n",
      "2  G11  G22  G33 \n",
      "\n",
      "    D1   D3\n",
      "0  D11  D33\n",
      "1  F11  F33\n",
      "2  G11  G33\n"
     ]
    }
   ],
   "source": [
    "dicti = [\n",
    "    {\"D1\":\"D11\",\"D2\":\"D22\",\"D3\":\"D33\"},\n",
    "    {\"D1\":\"F11\",\"D2\":\"F22\",\"D3\":\"F33\"},\n",
    "    {\"D1\":\"G11\",\"D2\":\"G22\",\"D3\":\"G33\"},\n",
    "]\n",
    "df =pd.DataFrame(dicti)\n",
    "print(df,\"\\n\")\n",
    "print(df[['D1','D3']])"
   ]
  },
  {
   "cell_type": "code",
   "execution_count": 21,
   "id": "5cb81d4f",
   "metadata": {},
   "outputs": [
    {
     "name": "stdout",
     "output_type": "stream",
     "text": [
      "\n",
      "Row index is:  0\n",
      "Row Value is: \n",
      "D1    D11\n",
      "D2    D22\n",
      "D3    D33\n",
      "Name: 0, dtype: object\n",
      "\n",
      "Row index is:  1\n",
      "Row Value is: \n",
      "D1    F11\n",
      "D2    F22\n",
      "D3    F33\n",
      "Name: 1, dtype: object\n",
      "\n",
      "Row index is:  2\n",
      "Row Value is: \n",
      "D1    G11\n",
      "D2    G22\n",
      "D3    G33\n",
      "Name: 2, dtype: object\n"
     ]
    }
   ],
   "source": [
    "for(index, val) in df.iterrows(): #rows\n",
    "    print(\"\\nRow index is: \", index)\n",
    "    print(\"Row Value is: \")\n",
    "    print(val)"
   ]
  },
  {
   "cell_type": "code",
   "execution_count": 22,
   "id": "775bfdf4",
   "metadata": {},
   "outputs": [
    {
     "name": "stdout",
     "output_type": "stream",
     "text": [
      "\n",
      "Column name is:  D1\n",
      "Column value is: \n",
      "0    D11\n",
      "1    F11\n",
      "2    G11\n",
      "Name: D1, dtype: object\n",
      "\n",
      "Column name is:  D2\n",
      "Column value is: \n",
      "0    D22\n",
      "1    F22\n",
      "2    G22\n",
      "Name: D2, dtype: object\n",
      "\n",
      "Column name is:  D3\n",
      "Column value is: \n",
      "0    D33\n",
      "1    F33\n",
      "2    G33\n",
      "Name: D3, dtype: object\n"
     ]
    }
   ],
   "source": [
    "for(index, val) in df.items():  #cols\n",
    "    print(\"\\nColumn name is: \", index)\n",
    "    print(\"Column value is: \")\n",
    "    print(val)"
   ]
  },
  {
   "cell_type": "code",
   "execution_count": 23,
   "id": "76235b11",
   "metadata": {},
   "outputs": [
    {
     "name": "stdout",
     "output_type": "stream",
     "text": [
      "   empID ename Dept\n",
      "0    101     A   D1\n",
      "1    102     B   D2\n",
      "2    103     C   D3\n",
      "3    104     D   D4\n",
      "4    105     E   D5\n"
     ]
    }
   ],
   "source": [
    "emp = {\n",
    "    'empID':[101,102,103,104,105],\n",
    "    'ename':['A','B','C','D','E'],\n",
    "    'Dept': ['D1','D2','D3','D4','D5']\n",
    "}\n",
    "df = pd.DataFrame(emp)\n",
    "print(df)"
   ]
  },
  {
   "cell_type": "code",
   "execution_count": 24,
   "id": "9d9210ef",
   "metadata": {},
   "outputs": [
    {
     "data": {
      "text/plain": [
       "0    101\n",
       "1    102\n",
       "2    103\n",
       "3    104\n",
       "4    105\n",
       "Name: empID, dtype: int64"
      ]
     },
     "execution_count": 24,
     "metadata": {},
     "output_type": "execute_result"
    }
   ],
   "source": [
    "df.empID"
   ]
  },
  {
   "cell_type": "code",
   "execution_count": 25,
   "id": "fa57d2f7",
   "metadata": {},
   "outputs": [
    {
     "data": {
      "text/plain": [
       "0    101\n",
       "1    102\n",
       "2    103\n",
       "3    104\n",
       "4    105\n",
       "Name: empID, dtype: int64"
      ]
     },
     "execution_count": 25,
     "metadata": {},
     "output_type": "execute_result"
    }
   ],
   "source": [
    "df['empID']"
   ]
  },
  {
   "cell_type": "code",
   "execution_count": 27,
   "id": "fe6e9935",
   "metadata": {},
   "outputs": [
    {
     "data": {
      "text/html": [
       "<div>\n",
       "<style scoped>\n",
       "    .dataframe tbody tr th:only-of-type {\n",
       "        vertical-align: middle;\n",
       "    }\n",
       "\n",
       "    .dataframe tbody tr th {\n",
       "        vertical-align: top;\n",
       "    }\n",
       "\n",
       "    .dataframe thead th {\n",
       "        text-align: right;\n",
       "    }\n",
       "</style>\n",
       "<table border=\"1\" class=\"dataframe\">\n",
       "  <thead>\n",
       "    <tr style=\"text-align: right;\">\n",
       "      <th></th>\n",
       "      <th>empID</th>\n",
       "      <th>ename</th>\n",
       "      <th>Dept</th>\n",
       "    </tr>\n",
       "  </thead>\n",
       "  <tbody>\n",
       "    <tr>\n",
       "      <th>0</th>\n",
       "      <td>101</td>\n",
       "      <td>A</td>\n",
       "      <td>D1</td>\n",
       "    </tr>\n",
       "    <tr>\n",
       "      <th>1</th>\n",
       "      <td>102</td>\n",
       "      <td>B</td>\n",
       "      <td>D2</td>\n",
       "    </tr>\n",
       "    <tr>\n",
       "      <th>2</th>\n",
       "      <td>103</td>\n",
       "      <td>C</td>\n",
       "      <td>D3</td>\n",
       "    </tr>\n",
       "    <tr>\n",
       "      <th>3</th>\n",
       "      <td>104</td>\n",
       "      <td>D</td>\n",
       "      <td>D4</td>\n",
       "    </tr>\n",
       "    <tr>\n",
       "      <th>4</th>\n",
       "      <td>105</td>\n",
       "      <td>E</td>\n",
       "      <td>D5</td>\n",
       "    </tr>\n",
       "  </tbody>\n",
       "</table>\n",
       "</div>"
      ],
      "text/plain": [
       "   empID ename Dept\n",
       "0    101     A   D1\n",
       "1    102     B   D2\n",
       "2    103     C   D3\n",
       "3    104     D   D4\n",
       "4    105     E   D5"
      ]
     },
     "execution_count": 27,
     "metadata": {},
     "output_type": "execute_result"
    }
   ],
   "source": [
    "df[['empID','ename','Dept']]"
   ]
  },
  {
   "cell_type": "code",
   "execution_count": 47,
   "id": "0087f210",
   "metadata": {},
   "outputs": [
    {
     "name": "stdout",
     "output_type": "stream",
     "text": [
      "    0\n",
      "0  10\n",
      "1  20\n",
      "2  30\n",
      "3  40\n",
      "4  50 \n",
      "\n",
      "   MLC\n",
      "0   10\n",
      "1   20\n",
      "2   30\n",
      "3   40\n",
      "4   50 \n",
      "\n",
      "   MLC  Python\n",
      "0   10     100\n",
      "1   20     200\n",
      "2   30     300\n",
      "3   40     500\n",
      "4   50     400 \n",
      "\n",
      "   MLC  Python  Total\n",
      "0   10     100    110\n",
      "1   20     200    220\n",
      "2   30     300    330\n",
      "3   40     500    540\n",
      "4   50     400    450 \n",
      "\n"
     ]
    }
   ],
   "source": [
    "s = pd.Series([10,20,30,40,50])\n",
    "df = pd.DataFrame(s)\n",
    "print(df,\"\\n\")\n",
    "df.columns=['MLC'] #To remove the default col of data frame as list1\n",
    "print(df,\"\\n\")\n",
    "df['Python']=[100,200,300,500,400] #To create a new col List2 with all values as 20\n",
    "print(df,\"\\n\")\n",
    "df['Total'] = df['MLC']+df['Python'] #Add col1 and col2 and store in col3\n",
    "print(df,\"\\n\")"
   ]
  },
  {
   "cell_type": "code",
   "execution_count": 32,
   "id": "fd3c720c",
   "metadata": {},
   "outputs": [],
   "source": [
    "del df['Python']"
   ]
  },
  {
   "cell_type": "code",
   "execution_count": 33,
   "id": "bf903323",
   "metadata": {},
   "outputs": [
    {
     "name": "stdout",
     "output_type": "stream",
     "text": [
      "   MLC  Total\n",
      "0   10    110\n",
      "1   20    220\n",
      "2   30    330\n",
      "3   40    540\n",
      "4   50    450\n"
     ]
    }
   ],
   "source": [
    "print(df)"
   ]
  },
  {
   "cell_type": "code",
   "execution_count": 37,
   "id": "3dd27c3b",
   "metadata": {},
   "outputs": [],
   "source": [
    "df.pop('MLC')\n",
    "print(df)"
   ]
  },
  {
   "cell_type": "code",
   "execution_count": 44,
   "id": "7df45349",
   "metadata": {},
   "outputs": [
    {
     "name": "stdout",
     "output_type": "stream",
     "text": [
      "   MLC\n",
      "0   10\n",
      "1   20\n",
      "2   30\n",
      "3   40\n",
      "4   50\n"
     ]
    }
   ],
   "source": [
    "df.pop('Python')\n",
    "print(df)"
   ]
  },
  {
   "cell_type": "code",
   "execution_count": 48,
   "id": "866f596a",
   "metadata": {},
   "outputs": [
    {
     "name": "stdout",
     "output_type": "stream",
     "text": [
      "   MLC  Python\n",
      "0   10     100\n",
      "1   20     200\n",
      "2   30     300\n",
      "3   40     500\n",
      "4   50     400\n"
     ]
    }
   ],
   "source": [
    "df = df.drop(columns='Total')\n",
    "print(df)"
   ]
  },
  {
   "cell_type": "code",
   "execution_count": 52,
   "id": "d5643788",
   "metadata": {},
   "outputs": [
    {
     "name": "stdout",
     "output_type": "stream",
     "text": [
      "   List1\n",
      "0     10\n",
      "1     20\n",
      "2     30\n",
      "3     40\n",
      "4     50\n",
      "   List1  List2\n",
      "0     10     10\n",
      "1     20     20\n",
      "4     50     50\n"
     ]
    }
   ],
   "source": [
    "s = pd.Series([10,20,30,40,50])\n",
    "df = pd.DataFrame(s)\n",
    "df.columns = ['List1']\n",
    "df['List2'] = [10,20,30,40,50]\n",
    "df1 = df.drop('List2', axis=1) #means to del data column wise\n",
    "df2 = df.drop(index = [2,3], axis=0) # means to del data row wise\n",
    "print(df1)\n",
    "print(df2)"
   ]
  },
  {
   "cell_type": "code",
   "execution_count": 55,
   "id": "560b5dee",
   "metadata": {},
   "outputs": [
    {
     "name": "stdout",
     "output_type": "stream",
     "text": [
      "      D    E    F\n",
      "D1  D11  F11  G11\n",
      "D2  D22  F22  G22\n",
      "D3  D33  F33  G33\n",
      "D    D22\n",
      "E    F22\n",
      "F    G22\n",
      "Name: D2, dtype: object\n",
      "      D    E    F\n",
      "D1  D11  F11  G11\n",
      "D2  D22  F22  G22\n"
     ]
    }
   ],
   "source": [
    "dicti = {\n",
    "    \"D\":{\"D1\":\"D11\",\"D2\":\"D22\",\"D3\":\"D33\"},\n",
    "    \"E\":{\"D1\":\"F11\",\"D2\":\"F22\",\"D3\":\"F33\"},\n",
    "    \"F\":{\"D1\":\"G11\",\"D2\":\"G22\",\"D3\":\"G33\"},\n",
    "}\n",
    "df = pd.DataFrame(dicti)\n",
    "print(df)\n",
    "print(df.loc['D2',:]) #only D2 row\n",
    "print(df.loc['D1':'D2',:]) #only rows from D1 to D3"
   ]
  },
  {
   "cell_type": "code",
   "execution_count": 56,
   "id": "aa269ce9",
   "metadata": {},
   "outputs": [
    {
     "name": "stdout",
     "output_type": "stream",
     "text": [
      "D1    F11\n",
      "D2    F22\n",
      "D3    F33\n",
      "Name: E, dtype: object\n",
      "      D    E\n",
      "D1  D11  F11\n",
      "D2  D22  F22\n",
      "D3  D33  F33\n"
     ]
    }
   ],
   "source": [
    "print(df.loc[:,'E'])\n",
    "print(df.loc[:,'D':'E'])"
   ]
  },
  {
   "cell_type": "code",
   "execution_count": 73,
   "id": "0cb0c42e",
   "metadata": {},
   "outputs": [
    {
     "name": "stdout",
     "output_type": "stream",
     "text": [
      "   empID   ename Dept\n",
      "0    101   Apple   D1\n",
      "1    102  Banana   D2\n",
      "2    108     Air   D3\n",
      "3    104       D   D4\n",
      "4    105       E   D5 \n",
      "\n",
      "2       Air\n",
      "0     Apple\n",
      "1    Banana\n",
      "3         D\n",
      "4         E\n",
      "Name: ename, dtype: object\n",
      "   empID   ename Dept\n",
      "0    101   Apple   D1\n",
      "1    102  Banana   D2\n"
     ]
    }
   ],
   "source": [
    "emp = {\n",
    "    'empID':[101,102,108,104,105],\n",
    "    'ename':['Apple','Banana','Air','D','E'],df.\n",
    "    'Dept': ['D1','D2','D3','D4','D5']\n",
    "}\n",
    "df = pd.DataFrame(emp)\n",
    "print(df,'\\n')\n",
    "print(df['ename'].sort_values())\n",
    "print(df.iloc[0:2])"
   ]
  },
  {
   "cell_type": "code",
   "execution_count": 75,
   "id": "4cebd3ce",
   "metadata": {},
   "outputs": [
    {
     "data": {
      "text/html": [
       "<div>\n",
       "<style scoped>\n",
       "    .dataframe tbody tr th:only-of-type {\n",
       "        vertical-align: middle;\n",
       "    }\n",
       "\n",
       "    .dataframe tbody tr th {\n",
       "        vertical-align: top;\n",
       "    }\n",
       "\n",
       "    .dataframe thead th {\n",
       "        text-align: right;\n",
       "    }\n",
       "</style>\n",
       "<table border=\"1\" class=\"dataframe\">\n",
       "  <thead>\n",
       "    <tr style=\"text-align: right;\">\n",
       "      <th></th>\n",
       "      <th>empID</th>\n",
       "      <th>ename</th>\n",
       "      <th>Dept</th>\n",
       "    </tr>\n",
       "  </thead>\n",
       "  <tbody>\n",
       "    <tr>\n",
       "      <th>3</th>\n",
       "      <td>104</td>\n",
       "      <td>D</td>\n",
       "      <td>D4</td>\n",
       "    </tr>\n",
       "    <tr>\n",
       "      <th>4</th>\n",
       "      <td>105</td>\n",
       "      <td>E</td>\n",
       "      <td>D5</td>\n",
       "    </tr>\n",
       "  </tbody>\n",
       "</table>\n",
       "</div>"
      ],
      "text/plain": [
       "   empID ename Dept\n",
       "3    104     D   D4\n",
       "4    105     E   D5"
      ]
     },
     "execution_count": 75,
     "metadata": {},
     "output_type": "execute_result"
    }
   ],
   "source": [
    "df.tail(2)"
   ]
  },
  {
   "cell_type": "code",
   "execution_count": 76,
   "id": "8e4297c3",
   "metadata": {},
   "outputs": [
    {
     "data": {
      "text/html": [
       "<div>\n",
       "<style scoped>\n",
       "    .dataframe tbody tr th:only-of-type {\n",
       "        vertical-align: middle;\n",
       "    }\n",
       "\n",
       "    .dataframe tbody tr th {\n",
       "        vertical-align: top;\n",
       "    }\n",
       "\n",
       "    .dataframe thead th {\n",
       "        text-align: right;\n",
       "    }\n",
       "</style>\n",
       "<table border=\"1\" class=\"dataframe\">\n",
       "  <thead>\n",
       "    <tr style=\"text-align: right;\">\n",
       "      <th></th>\n",
       "      <th>empID</th>\n",
       "      <th>ename</th>\n",
       "      <th>Dept</th>\n",
       "    </tr>\n",
       "  </thead>\n",
       "  <tbody>\n",
       "    <tr>\n",
       "      <th>0</th>\n",
       "      <td>101</td>\n",
       "      <td>Apple</td>\n",
       "      <td>D1</td>\n",
       "    </tr>\n",
       "    <tr>\n",
       "      <th>1</th>\n",
       "      <td>102</td>\n",
       "      <td>Banana</td>\n",
       "      <td>D2</td>\n",
       "    </tr>\n",
       "  </tbody>\n",
       "</table>\n",
       "</div>"
      ],
      "text/plain": [
       "   empID   ename Dept\n",
       "0    101   Apple   D1\n",
       "1    102  Banana   D2"
      ]
     },
     "execution_count": 76,
     "metadata": {},
     "output_type": "execute_result"
    }
   ],
   "source": [
    "df.head(2)"
   ]
  },
  {
   "cell_type": "code",
   "execution_count": null,
   "id": "523edf3d",
   "metadata": {},
   "outputs": [],
   "source": []
  }
 ],
 "metadata": {
  "kernelspec": {
   "display_name": "Python 3 (ipykernel)",
   "language": "python",
   "name": "python3"
  },
  "language_info": {
   "codemirror_mode": {
    "name": "ipython",
    "version": 3
   },
   "file_extension": ".py",
   "mimetype": "text/x-python",
   "name": "python",
   "nbconvert_exporter": "python",
   "pygments_lexer": "ipython3",
   "version": "3.9.17"
  }
 },
 "nbformat": 4,
 "nbformat_minor": 5
}
