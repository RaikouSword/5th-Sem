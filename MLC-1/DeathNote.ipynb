{
 "cells": [
  {
   "cell_type": "code",
   "execution_count": 1,
   "id": "4585dcdb",
   "metadata": {},
   "outputs": [
    {
     "name": "stdout",
     "output_type": "stream",
     "text": [
      "Hello from C021\n"
     ]
    }
   ],
   "source": [
    "print(\"Hello from C021\")"
   ]
  },
  {
   "cell_type": "code",
   "execution_count": 2,
   "id": "b1c9a9f2",
   "metadata": {},
   "outputs": [
    {
     "name": "stdout",
     "output_type": "stream",
     "text": [
      "Integer:  25 <class 'int'>\n"
     ]
    }
   ],
   "source": [
    "age  = 25\n",
    "print(\"Integer: \", age, type(age))"
   ]
  },
  {
   "cell_type": "code",
   "execution_count": 3,
   "id": "abe75c94",
   "metadata": {},
   "outputs": [
    {
     "name": "stdout",
     "output_type": "stream",
     "text": [
      "Float 5.9 <class 'float'>\n"
     ]
    }
   ],
   "source": [
    "height  = 5.9\n",
    "print(\"Float\", height, type(height))"
   ]
  },
  {
   "cell_type": "code",
   "execution_count": 5,
   "id": "4d8753cd",
   "metadata": {},
   "outputs": [
    {
     "name": "stdout",
     "output_type": "stream",
     "text": [
      "Addition:  13\n",
      "Subtraction:  7\n",
      "Multiplication:  30\n",
      "Divison:  3.3333333333333335\n",
      "Floor Division:  3\n",
      "Modulus:  1\n",
      "Exponentiation:  1000\n"
     ]
    }
   ],
   "source": [
    "#Arithmatic Operations\n",
    "a= 10\n",
    "b =3\n",
    "print(\"Addition: \", a+b)\n",
    "print(\"Subtraction: \", a-b)\n",
    "print(\"Multiplication: \", a*b)\n",
    "print(\"Divison: \", a/b)\n",
    "print(\"Floor Division: \", a//b)\n",
    "print(\"Modulus: \", a%b)\n",
    "print(\"Exponentiation: \", a**b)"
   ]
  },
  {
   "cell_type": "code",
   "execution_count": 8,
   "id": "2162e3c6",
   "metadata": {},
   "outputs": [
    {
     "name": "stdout",
     "output_type": "stream",
     "text": [
      "Equal:  False\n",
      "Not Equal:  True\n",
      "Greater than:  False\n",
      "Lesser than:  True\n"
     ]
    }
   ],
   "source": [
    "#Comparison Operations\n",
    "x= 5\n",
    "y = 8\n",
    "print(\"Equal: \", x==y)\n",
    "print(\"Not Equal: \", x!=y)\n",
    "print(\"Greater than: \", x>y)\n",
    "print(\"Lesser than: \", x<y)\n",
    "# Same with \">=\" for \"greater than equals to\" and \"<=\" for \"less than equals to\""
   ]
  },
  {
   "cell_type": "code",
   "execution_count": 9,
   "id": "c586c95d",
   "metadata": {},
   "outputs": [
    {
     "name": "stdout",
     "output_type": "stream",
     "text": [
      "AND: False\n",
      "OR: True\n",
      "NOT P: False\n",
      "NOT Q: True\n"
     ]
    }
   ],
   "source": [
    "#Logical Operators\n",
    "p =True\n",
    "q = False\n",
    "print(\"AND:\", p and q)\n",
    "print(\"OR:\", p or q)\n",
    "print(\"NOT P:\", not p)\n",
    "print(\"NOT Q:\", not q)"
   ]
  },
  {
   "cell_type": "code",
   "execution_count": 11,
   "id": "4a2279db",
   "metadata": {},
   "outputs": [
    {
     "name": "stdout",
     "output_type": "stream",
     "text": [
      "Concatenation:  Hello World\n",
      "Repetition:  HelloHelloHello\n",
      "Length:  5 5\n",
      "Uppercase:  HELLO\n",
      "Lowercase:  world\n",
      "Contains 'ell':  True False\n"
     ]
    }
   ],
   "source": [
    "#String Operations\n",
    "str1 =\"Hello\"\n",
    "str2 = \"World\"\n",
    "\n",
    "print(\"Concatenation: \", str1+ \" \" + str2)\n",
    "print(\"Repetition: \", str1*3)\n",
    "print(\"Length: \", len(str1), len(str2))\n",
    "print(\"Uppercase: \",str1.upper())\n",
    "print(\"Lowercase: \", str2.lower())\n",
    "print(\"Contains 'ell': \", 'ell' in str1, 'ell' in str2)"
   ]
  },
  {
   "cell_type": "code",
   "execution_count": 29,
   "id": "f1eba2a1",
   "metadata": {},
   "outputs": [
    {
     "name": "stdout",
     "output_type": "stream",
     "text": [
      "1 2 3 4 5 6 7 8 9 \n",
      "1 2 24 5 6 7 8 136 6 3 62346 [1] [2] [3] [4] [5] [6] [7] [8] [9] "
     ]
    }
   ],
   "source": [
    "#For Loop\n",
    "for i in range(1, 10):\n",
    "    print(i, end=\" \")\n",
    "print()\n",
    "arr = [1,2,24,5,6,7,8,136,6,3,62346,]\n",
    "for num in arr:\n",
    "    print(num, end=\" \")\n",
    "# print()\n",
    "# for num in arr:\n",
    "#     for i in range(1,10):\n",
    "#         print(i, end=\" \")\n",
    "\n",
    "\n",
    "#for i in range(x,y,z)\n",
    "# x- starting \n",
    "# y- end\n",
    "# z - increament"
   ]
  },
  {
   "cell_type": "code",
   "execution_count": 36,
   "id": "5d6c7b71",
   "metadata": {},
   "outputs": [
    {
     "name": "stdout",
     "output_type": "stream",
     "text": [
      "10 9 8 7 6 5 4 3 2 1 "
     ]
    }
   ],
   "source": [
    "#While Loop\n",
    "\n",
    "count = 10\n",
    "while count > 0:\n",
    "    print(count, end=\" \")\n",
    "    count-=1"
   ]
  },
  {
   "cell_type": "code",
   "execution_count": null,
   "id": "e189c0bc",
   "metadata": {},
   "outputs": [],
   "source": []
  },
  {
   "cell_type": "code",
   "execution_count": null,
   "id": "89967bd4",
   "metadata": {},
   "outputs": [],
   "source": []
  },
  {
   "cell_type": "code",
   "execution_count": null,
   "id": "de7e127d",
   "metadata": {},
   "outputs": [],
   "source": []
  },
  {
   "cell_type": "code",
   "execution_count": null,
   "id": "83bcd0a9",
   "metadata": {},
   "outputs": [],
   "source": []
  }
 ],
 "metadata": {
  "kernelspec": {
   "display_name": "Python 3 (ipykernel)",
   "language": "python",
   "name": "python3"
  },
  "language_info": {
   "codemirror_mode": {
    "name": "ipython",
    "version": 3
   },
   "file_extension": ".py",
   "mimetype": "text/x-python",
   "name": "python",
   "nbconvert_exporter": "python",
   "pygments_lexer": "ipython3",
   "version": "3.9.17"
  }
 },
 "nbformat": 4,
 "nbformat_minor": 5
}
