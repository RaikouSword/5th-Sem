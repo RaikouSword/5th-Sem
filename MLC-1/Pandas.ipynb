{
 "cells": [
  {
   "cell_type": "code",
   "execution_count": 2,
   "id": "12ff3c84",
   "metadata": {},
   "outputs": [],
   "source": [
    "import pandas as pd"
   ]
  },
  {
   "cell_type": "code",
   "execution_count": 3,
   "id": "a6b49209",
   "metadata": {},
   "outputs": [
    {
     "name": "stdout",
     "output_type": "stream",
     "text": [
      "0    1\n",
      "1    2\n",
      "2    3\n",
      "dtype: int64\n"
     ]
    }
   ],
   "source": [
    "#List to Series with default index\n",
    "s = pd.Series([1,2,3])\n",
    "print(s)"
   ]
  },
  {
   "cell_type": "code",
   "execution_count": 5,
   "id": "54513644",
   "metadata": {},
   "outputs": [
    {
     "name": "stdout",
     "output_type": "stream",
     "text": [
      "Series([], dtype: float64)\n"
     ]
    },
    {
     "name": "stderr",
     "output_type": "stream",
     "text": [
      "/tmp/ipykernel_6911/3780755642.py:1: DeprecationWarning: The default dtype for empty Series will be 'object' instead of 'float64' in a future version. Specify a dtype explicitly to silence this warning.\n",
      "  S = pd.Series()\n"
     ]
    }
   ],
   "source": [
    "S = pd.Series() #Empty series \n",
    "print(S)"
   ]
  },
  {
   "cell_type": "code",
   "execution_count": 6,
   "id": "9f167f6b",
   "metadata": {},
   "outputs": [
    {
     "name": "stdout",
     "output_type": "stream",
     "text": [
      "a    1\n",
      "b    2\n",
      "c    3\n",
      "dtype: int64\n"
     ]
    }
   ],
   "source": [
    "ss = pd.Series([1,2,3], index = ['a', 'b', 'c'])\n",
    "print(ss)"
   ]
  },
  {
   "cell_type": "code",
   "execution_count": 8,
   "id": "095d82d3",
   "metadata": {},
   "outputs": [
    {
     "name": "stdout",
     "output_type": "stream",
     "text": [
      "a    1\n",
      "b    2\n",
      "c    3\n",
      "dtype: int64\n"
     ]
    }
   ],
   "source": [
    "#Dictionary to Series\n",
    "SS = pd.Series({'a':1, 'b':2, 'c':3})\n",
    "print(SS)"
   ]
  },
  {
   "cell_type": "code",
   "execution_count": 10,
   "id": "f7829c65",
   "metadata": {},
   "outputs": [
    {
     "name": "stdout",
     "output_type": "stream",
     "text": [
      "a    1\n",
      "b    2\n",
      "c    3\n",
      "d    4\n",
      "dtype: int64\n"
     ]
    }
   ],
   "source": [
    "sss = pd.Series((1,2,3,4), index=['a', 'b', 'c', 'd'])\n",
    "print(sss)"
   ]
  },
  {
   "cell_type": "code",
   "execution_count": 14,
   "id": "1841721f",
   "metadata": {},
   "outputs": [
    {
     "name": "stdout",
     "output_type": "stream",
     "text": [
      "4\n"
     ]
    }
   ],
   "source": [
    "print(sss['d'])"
   ]
  },
  {
   "cell_type": "code",
   "execution_count": 19,
   "id": "3b7cdb71",
   "metadata": {},
   "outputs": [
    {
     "name": "stdout",
     "output_type": "stream",
     "text": [
      "a    1\n",
      "b    2\n",
      "c    3\n",
      "dtype: int64\n"
     ]
    }
   ],
   "source": [
    "print(sss[:3])"
   ]
  },
  {
   "cell_type": "code",
   "execution_count": 23,
   "id": "2725407d",
   "metadata": {},
   "outputs": [
    {
     "name": "stdout",
     "output_type": "stream",
     "text": [
      "a    1\n",
      "d    4\n",
      "dtype: int64\n"
     ]
    }
   ],
   "source": [
    "print(sss[['a','d']])"
   ]
  },
  {
   "cell_type": "code",
   "execution_count": 29,
   "id": "ef073329",
   "metadata": {},
   "outputs": [
    {
     "name": "stdout",
     "output_type": "stream",
     "text": [
      "c    3\n",
      "d    4\n",
      "dtype: int64\n"
     ]
    }
   ],
   "source": [
    "print(sss[sss>2])"
   ]
  },
  {
   "cell_type": "code",
   "execution_count": 28,
   "id": "2f75ad81",
   "metadata": {},
   "outputs": [
    {
     "name": "stdout",
     "output_type": "stream",
     "text": [
      "[a    False\n",
      "b    False\n",
      "c     True\n",
      "d     True\n",
      "dtype: bool]\n"
     ]
    }
   ],
   "source": [
    "print([sss>2])"
   ]
  },
  {
   "cell_type": "code",
   "execution_count": 30,
   "id": "39280101",
   "metadata": {},
   "outputs": [
    {
     "name": "stdout",
     "output_type": "stream",
     "text": [
      "a    2\n",
      "b    4\n",
      "c    6\n",
      "d    8\n",
      "dtype: int64\n"
     ]
    }
   ],
   "source": [
    "print(sss*2)"
   ]
  },
  {
   "cell_type": "code",
   "execution_count": 41,
   "id": "b6d84b67",
   "metadata": {},
   "outputs": [
    {
     "name": "stdout",
     "output_type": "stream",
     "text": [
      "       Name  Age        City\n",
      "0      Guru   21     Cuttack\n",
      "1  Rajendra   21       Angul\n",
      "2        Om   21  Jamshedpur\n",
      "3    Sourav   20    Balasore\n",
      "4       Sai   21        BBSR\n"
     ]
    }
   ],
   "source": [
    "data = {\n",
    "    'Name':['Guru', 'Rajendra', 'Om', 'Sourav','Sai'],\n",
    "    'Age': [21,21,21,20,21],\n",
    "    'City':['Cuttack','Angul','Jamshedpur','Balasore','BBSR']\n",
    "}\n",
    "\n",
    "df = pd.DataFrame(data)\n",
    "print(df)"
   ]
  },
  {
   "cell_type": "code",
   "execution_count": 42,
   "id": "0c2a0f1b",
   "metadata": {},
   "outputs": [
    {
     "name": "stdout",
     "output_type": "stream",
     "text": [
      "(5, 3)\n",
      "\n",
      "<class 'pandas.core.frame.DataFrame'>\n",
      "RangeIndex: 5 entries, 0 to 4\n",
      "Data columns (total 3 columns):\n",
      " #   Column  Non-Null Count  Dtype \n",
      "---  ------  --------------  ----- \n",
      " 0   Name    5 non-null      object\n",
      " 1   Age     5 non-null      int64 \n",
      " 2   City    5 non-null      object\n",
      "dtypes: int64(1), object(2)\n",
      "memory usage: 248.0+ bytes\n",
      "None\n",
      "\n",
      "             Age\n",
      "count   5.000000\n",
      "mean   20.800000\n",
      "std     0.447214\n",
      "min    20.000000\n",
      "25%    21.000000\n",
      "50%    21.000000\n",
      "75%    21.000000\n",
      "max    21.000000\n"
     ]
    }
   ],
   "source": [
    "print(df.shape)\n",
    "print()\n",
    "print(df.info())#rw-rw-r--1\n",
    "print()\n",
    "print(df.describe())"
   ]
  },
  {
   "cell_type": "code",
   "execution_count": 46,
   "id": "7894eb2f",
   "metadata": {},
   "outputs": [
    {
     "name": "stdout",
     "output_type": "stream",
     "text": [
      "0        Guru\n",
      "1    Rajendra\n",
      "2          Om\n",
      "3      Sourav\n",
      "4         Sai\n",
      "Name: Name, dtype: object \n",
      "\n",
      "       Name  Age\n",
      "0      Guru   21\n",
      "1  Rajendra   21\n",
      "2        Om   21\n",
      "3    Sourav   20\n",
      "4       Sai   21 \n",
      "\n",
      "Name       Guru\n",
      "Age          21\n",
      "City    Cuttack\n",
      "Name: 0, dtype: object \n",
      "\n",
      "Guru \n",
      "\n"
     ]
    }
   ],
   "source": [
    "print(df['Name'],\"\\n\")\n",
    "print(df[['Name','Age']],\"\\n\")\n",
    "print(df.iloc[0],\"\\n\")\n",
    "print(df.loc[0,'Name'],\"\\n\")"
   ]
  },
  {
   "cell_type": "code",
   "execution_count": 5,
   "id": "71b78303",
   "metadata": {},
   "outputs": [
    {
     "name": "stdout",
     "output_type": "stream",
     "text": [
      "0    10\n",
      "1    20\n",
      "2    30\n",
      "dtype: int64\n"
     ]
    }
   ],
   "source": [
    "#Series with nd Array\n",
    "import pandas as pd\n",
    "import numpy as np\n",
    "\n",
    "arr = np.array([10,20,30])\n",
    "s = pd.Series(arr)\n",
    "print(s)"
   ]
  },
  {
   "cell_type": "code",
   "execution_count": 9,
   "id": "82895f69",
   "metadata": {},
   "outputs": [
    {
     "name": "stdout",
     "output_type": "stream",
     "text": [
      "1    a\n",
      "2    b\n",
      "3    1\n",
      "4    2\n",
      "dtype: object\n"
     ]
    }
   ],
   "source": [
    "#Series with Mutable index\n",
    "ar = np.array(['a','b',1,2])\n",
    "ss = pd.Series(ar, index=['1','2','3','4'])\n",
    "print(ss)"
   ]
  },
  {
   "cell_type": "code",
   "execution_count": 11,
   "id": "67ca2083",
   "metadata": {},
   "outputs": [
    {
     "name": "stdout",
     "output_type": "stream",
     "text": [
      "0    Rajendra\n",
      "1    Rajendra\n",
      "2    Rajendra\n",
      "3    Rajendra\n",
      "4    Rajendra\n",
      "5    Rajendra\n",
      "6    Rajendra\n",
      "7    Rajendra\n",
      "8    Rajendra\n",
      "9    Rajendra\n",
      "dtype: object\n"
     ]
    }
   ],
   "source": [
    "#Creating Series from Scalar Values\n",
    "S = pd.Series('Rajendra',index=[0,1,2,3,4,5,6,7,8,9])\n",
    "print(S)"
   ]
  },
  {
   "cell_type": "code",
   "execution_count": 24,
   "id": "a8b462ff",
   "metadata": {},
   "outputs": [
    {
     "name": "stdout",
     "output_type": "stream",
     "text": [
      "1    1\n",
      "2    2\n",
      "3    3\n",
      "4    4\n",
      "dtype: int64 \n",
      "\n",
      "1    10\n",
      "2    20\n",
      "3    30\n",
      "4    40\n",
      "dtype: int64 \n",
      "\n",
      "1    11\n",
      "2    22\n",
      "3    33\n",
      "4    44\n",
      "dtype: int64 \n",
      "\n",
      "1    11.0\n",
      "2    22.0\n",
      "3    33.0\n",
      "4    44.0\n",
      "5     NaN\n",
      "dtype: float64 \n",
      "\n",
      "1    11.0\n",
      "2    22.0\n",
      "3    33.0\n",
      "4    44.0\n",
      "5    55.0\n",
      "dtype: float64\n"
     ]
    }
   ],
   "source": [
    "ar1 = np.array([1,2,3,4])\n",
    "ar2 = np.array([10,20,30,40])\n",
    "ar3 = np.array([1,2,3,4,5])\n",
    "s1 = pd.Series(ar1,index=['1','2','3','4'])\n",
    "s2 = pd.Series(ar2,index=['1','2','3','4'])\n",
    "s3 = pd.Series(ar3,index=['1','2','3','4','5'])\n",
    "print(s1,\"\\n\")\n",
    "print(s2,\"\\n\")\n",
    "print(s1+s2,\"\\n\")\n",
    "print(s2+s3,\"\\n\")\n",
    "print(s2.add(s3,fill_value=50))"
   ]
  },
  {
   "cell_type": "code",
   "execution_count": 27,
   "id": "1235fc1b",
   "metadata": {},
   "outputs": [
    {
     "name": "stdout",
     "output_type": "stream",
     "text": [
      "0    61\n",
      "1    51\n",
      "2    31\n",
      "3    41\n",
      "4    71\n",
      "dtype: int64\n",
      "0    61\n",
      "1    51\n",
      "2    31\n",
      "dtype: int64\n",
      "2    31\n",
      "3    41\n",
      "4    71\n",
      "5    21\n",
      "6    81\n",
      "dtype: int64\n",
      "6    81\n",
      "dtype: int64\n"
     ]
    }
   ],
   "source": [
    "arr = np.array([61,51,31,41,71,21,81])\n",
    "s = pd.Series(arr)\n",
    "print(s.head())\n",
    "print(s.head(3))\n",
    "print(s.tail())\n",
    "print(s.tail(1))"
   ]
  },
  {
   "cell_type": "code",
   "execution_count": 30,
   "id": "53208e8d",
   "metadata": {},
   "outputs": [
    {
     "name": "stdout",
     "output_type": "stream",
     "text": [
      "0    10\n",
      "1    20\n",
      "2    30\n",
      "3    40\n",
      "4    50\n",
      "5    60\n",
      "6    70\n",
      "dtype: int64\n",
      "0    10\n",
      "1    20\n",
      "2    30\n",
      "dtype: int64\n",
      "0    10\n",
      "1    20\n",
      "dtype: int64\n",
      "3    40\n",
      "4    50\n",
      "dtype: int64\n",
      "3    40\n",
      "dtype: int64\n",
      "2    30\n",
      "3    40\n",
      "dtype: int64\n"
     ]
    }
   ],
   "source": [
    "arr =np.array([10,20,30,40,50,60,70])\n",
    "s = pd.Series(arr)\n",
    "print(s)\n",
    "print(s.loc[:2]) #inclusive of 2 as it just do indexing\n",
    "print(s.iloc[:2]) #exclusive of 2 as it do +1 and py ignores last\n",
    "print(s.loc[3:4])\n",
    "print(s.iloc[3:4])\n",
    "print(s.loc[2:3])"
   ]
  },
  {
   "cell_type": "code",
   "execution_count": 31,
   "id": "8233b48f",
   "metadata": {},
   "outputs": [
    {
     "name": "stdout",
     "output_type": "stream",
     "text": [
      "Name               [Guru, Rajendra, Om, Sourav, Sai]\n",
      "Age                             [21, 21, 21, 20, 21]\n",
      "City    [Cuttack, Angul, Jamshedpur, Balasore, BBSR]\n",
      "dtype: object\n"
     ]
    }
   ],
   "source": [
    "dicti = {\n",
    "    'Name':['Guru', 'Rajendra', 'Om', 'Sourav','Sai'],\n",
    "    'Age': [21,21,21,20,21],\n",
    "    'City':['Cuttack','Angul','Jamshedpur','Balasore','BBSR']\n",
    "}\n",
    "\n",
    "s = pd.Series(dicti)\n",
    "print(s)"
   ]
  },
  {
   "cell_type": "code",
   "execution_count": null,
   "id": "ebfd5fe9",
   "metadata": {},
   "outputs": [],
   "source": []
  }
 ],
 "metadata": {
  "kernelspec": {
   "display_name": "Python 3 (ipykernel)",
   "language": "python",
   "name": "python3"
  },
  "language_info": {
   "codemirror_mode": {
    "name": "ipython",
    "version": 3
   },
   "file_extension": ".py",
   "mimetype": "text/x-python",
   "name": "python",
   "nbconvert_exporter": "python",
   "pygments_lexer": "ipython3",
   "version": "3.9.17"
  }
 },
 "nbformat": 4,
 "nbformat_minor": 5
}
