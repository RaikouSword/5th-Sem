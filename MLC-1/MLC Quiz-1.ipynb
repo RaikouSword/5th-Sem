{
 "cells": [
  {
   "cell_type": "code",
   "execution_count": 41,
   "id": "d28c0d63",
   "metadata": {},
   "outputs": [
    {
     "name": "stdout",
     "output_type": "stream",
     "text": [
      "present\n",
      "tneserp"
     ]
    }
   ],
   "source": [
    "#1. WAP to take a string as input and print its reverse\n",
    "s =input()\n",
    "for ch in range(len(s)-1,-1,-1):\n",
    "    print(s[ch], end=\"\")"
   ]
  },
  {
   "cell_type": "code",
   "execution_count": 51,
   "id": "7c42b3d7",
   "metadata": {},
   "outputs": [
    {
     "name": "stdout",
     "output_type": "stream",
     "text": [
      "APPLE IS\n",
      "Total vowels:  3\n"
     ]
    }
   ],
   "source": [
    "#2. Input a string and count how many vowels are present\n",
    "s = input()\n",
    "s.split()\n",
    "vowels =['a','e','i','o','u','A', 'E','I','O','U']\n",
    "count=0\n",
    "for ch in s:\n",
    "    if ch in vowels:\n",
    "        count+=1\n",
    "print(\"Total vowels: \", count)"
   ]
  },
  {
   "cell_type": "code",
   "execution_count": 18,
   "id": "8468c090",
   "metadata": {},
   "outputs": [
    {
     "name": "stdout",
     "output_type": "stream",
     "text": [
      " 1 2 3 3  5 6 9 4 7 \n",
      "Original list:  [1, 2, 3, 3, 5, 6, 9, 4, 7]\n",
      "New list:  [1, 2, 3, 5, 6, 9, 4, 7]\n"
     ]
    }
   ],
   "source": [
    "#3. Given a list print a new list containing only unique elements in the same order\n",
    "list1 = list(map(int,input().split()))\n",
    "print(\"Original list: \", list1)\n",
    "list2 = []\n",
    "for num in list1:\n",
    "    if num not in list2:\n",
    "        list2.append(num)\n",
    "print(\"New list: \",list2)"
   ]
  },
  {
   "cell_type": "code",
   "execution_count": 54,
   "id": "81d0c29e",
   "metadata": {},
   "outputs": [
    {
     "name": "stdout",
     "output_type": "stream",
     "text": [
      "hi hii hi hiii hi hiii hello\n",
      "{'h': 7, 'i': 11, ' ': 6, 'e': 1, 'l': 2, 'o': 1}\n"
     ]
    }
   ],
   "source": [
    "#4. Input a sentence and return a dictionary with each word and its frequency\n",
    "s = input()\n",
    "s.split()\n",
    "dicti = {}\n",
    "for ch in s:\n",
    "    if ch not in dicti:\n",
    "        dicti[ch] = 1\n",
    "    else:\n",
    "        dicti[ch]+=1\n",
    "print(dicti)"
   ]
  },
  {
   "cell_type": "code",
   "execution_count": 69,
   "id": "7d44ca6c",
   "metadata": {},
   "outputs": [
    {
     "name": "stdout",
     "output_type": "stream",
     "text": [
      "[[1 2 3]\n",
      " [4 5 6]]\n",
      "6\n",
      "15\n",
      "5\n",
      "7\n",
      "9\n"
     ]
    }
   ],
   "source": [
    "#5. For a given 2D array , find the sum of each row and each column separetly \n",
    "import numpy as np\n",
    "\n",
    "arr = np.array([[1,2,3],[4,5,6]])\n",
    "print(arr)\n",
    "\n",
    "for i in range(len(arr)):\n",
    "    add=0\n",
    "    for j in range(len(arr[0])):\n",
    "        add+=arr[i][j]\n",
    "    print(add)\n",
    "    \n",
    "for j in range(len(arr[0])):\n",
    "    add1=0\n",
    "    for i in range(len(arr)):\n",
    "        add1+=arr[i][j]\n",
    "    print(add1)"
   ]
  },
  {
   "cell_type": "code",
   "execution_count": 43,
   "id": "b45731b2",
   "metadata": {},
   "outputs": [
    {
     "name": "stdout",
     "output_type": "stream",
     "text": [
      "15\n",
      "15\n",
      "18\n",
      "14\n"
     ]
    }
   ],
   "source": [
    "#6. Create a 1D array of random numbers from 1 to 20. Print elements greater than 10 \n",
    "import numpy as np\n",
    "\n",
    "arr = np.random.randint(1,20,10)\n",
    "for ele in arr:\n",
    "    if ele>=10:\n",
    "        print(ele)"
   ]
  },
  {
   "cell_type": "code",
   "execution_count": null,
   "id": "b0e0c158",
   "metadata": {},
   "outputs": [],
   "source": []
  }
 ],
 "metadata": {
  "kernelspec": {
   "display_name": "Python 3 (ipykernel)",
   "language": "python",
   "name": "python3"
  },
  "language_info": {
   "codemirror_mode": {
    "name": "ipython",
    "version": 3
   },
   "file_extension": ".py",
   "mimetype": "text/x-python",
   "name": "python",
   "nbconvert_exporter": "python",
   "pygments_lexer": "ipython3",
   "version": "3.9.17"
  }
 },
 "nbformat": 4,
 "nbformat_minor": 5
}
